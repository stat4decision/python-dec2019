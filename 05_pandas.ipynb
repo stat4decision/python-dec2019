{
 "cells": [
  {
   "cell_type": "markdown",
   "metadata": {
    "slideshow": {
     "slide_type": "slide"
    }
   },
   "source": [
    "![image](./images/pandas.png)\n",
    "\n",
    "Pandas est le package de prédilection pour traiter des données structurées.\n",
    "\n",
    "Pandas est basé sur 2 structures extrêmement liées les Series et le DataFrame.\n",
    "\n",
    "Ces deux structures permettent de traiter des données sous forme de tableaux indexés.\n",
    "\n",
    "Les classes de Pandas utilisent des classes de Numpy, il est donc possible d'utiliser les fonctions universelles de Numpy sur les objets Pandas."
   ]
  },
  {
   "cell_type": "code",
   "execution_count": 1,
   "metadata": {
    "slideshow": {
     "slide_type": "subslide"
    }
   },
   "outputs": [],
   "source": [
    "# on importe pandas avec :\n",
    "import pandas as pd\n",
    "import numpy as np\n",
    "%matplotlib inline"
   ]
  },
  {
   "cell_type": "markdown",
   "metadata": {
    "slideshow": {
     "slide_type": "slide"
    }
   },
   "source": [
    "# Les Series de Pandas\n",
    "\n",
    "- Les Series sont indexées, c'est leur avantage sur les arrays de NumPy\n",
    "- On peut utiliser les fonctions `.values` et `.index` pour voir les différentes parties de chaque Series\n",
    "- On définit une Series par `pd.Series([,], index=['','',])`\n",
    "- On peut appeler un élément avec `ma_serie['France']`\n",
    "- On peut aussi faire des conditions :\n",
    "```python\n",
    "ma_serie[ma_serie>5000000]\n",
    "```\n",
    "```\n",
    "'France' in ma_serie\n",
    "```\n",
    "- Les objets Series peuvent être transformés en dictionnaires en utilisant :\n",
    "`.to_dict()`"
   ]
  },
  {
   "cell_type": "markdown",
   "metadata": {
    "slideshow": {
     "slide_type": "subslide"
    }
   },
   "source": [
    "**Exercice :**\n",
    "    \n",
    "Définir un objet Series comprenant la population de 5 pays puis afficher les pays ayant une population > 50’000’000.\n"
   ]
  },
  {
   "cell_type": "code",
   "execution_count": 2,
   "metadata": {},
   "outputs": [],
   "source": [
    "serie_pop = pd.Series([70,300,1300,8],index=[\"France\",\"USA\",\"Chine\",\"Suisse\"])"
   ]
  },
  {
   "cell_type": "code",
   "execution_count": 3,
   "metadata": {},
   "outputs": [
    {
     "data": {
      "text/plain": [
       "France      70\n",
       "USA        300\n",
       "Chine     1300\n",
       "Suisse       8\n",
       "dtype: int64"
      ]
     },
     "execution_count": 3,
     "metadata": {},
     "output_type": "execute_result"
    }
   ],
   "source": [
    "serie_pop"
   ]
  },
  {
   "cell_type": "code",
   "execution_count": 4,
   "metadata": {},
   "outputs": [
    {
     "data": {
      "text/plain": [
       "8"
      ]
     },
     "execution_count": 4,
     "metadata": {},
     "output_type": "execute_result"
    }
   ],
   "source": [
    "serie_pop[\"Suisse\"]"
   ]
  },
  {
   "cell_type": "code",
   "execution_count": 5,
   "metadata": {},
   "outputs": [
    {
     "data": {
      "text/plain": [
       "8"
      ]
     },
     "execution_count": 5,
     "metadata": {},
     "output_type": "execute_result"
    }
   ],
   "source": [
    "serie_pop.iloc[3]"
   ]
  },
  {
   "cell_type": "code",
   "execution_count": 6,
   "metadata": {},
   "outputs": [],
   "source": [
    "#ne pas utiliser :\n",
    "#serie_pop[3]"
   ]
  },
  {
   "cell_type": "code",
   "execution_count": 7,
   "metadata": {},
   "outputs": [
    {
     "data": {
      "text/plain": [
       "France      70\n",
       "USA        300\n",
       "Chine     1300\n",
       "dtype: int64"
      ]
     },
     "execution_count": 7,
     "metadata": {},
     "output_type": "execute_result"
    }
   ],
   "source": [
    "# extraire les pays avec plus de 5M d'hab.\n",
    "serie_pop[serie_pop>50]"
   ]
  },
  {
   "cell_type": "markdown",
   "metadata": {
    "slideshow": {
     "slide_type": "subslide"
    }
   },
   "source": [
    "# D'autres opérations sur les objets series\n",
    "\n",
    "- Pour définir le nom de la Series, on utilise `.name`\n",
    "- Pour définir le titre de la colonne des observations, on utilise `.index.name`"
   ]
  },
  {
   "cell_type": "markdown",
   "metadata": {
    "slideshow": {
     "slide_type": "subslide"
    }
   },
   "source": [
    "**Exercice :**\n",
    "    \n",
    "Définir les noms de l’objet et de la colonne des pays pour la Series précédente\n"
   ]
  },
  {
   "cell_type": "code",
   "execution_count": 8,
   "metadata": {},
   "outputs": [
    {
     "data": {
      "text/plain": [
       "Pays\n",
       "France      70\n",
       "USA        300\n",
       "Chine     1300\n",
       "Suisse       8\n",
       "Name: Populations, dtype: int64"
      ]
     },
     "execution_count": 8,
     "metadata": {},
     "output_type": "execute_result"
    }
   ],
   "source": [
    "serie_pop.name = \"Populations\"\n",
    "serie_pop.index.name = \"Pays\"\n",
    "serie_pop"
   ]
  },
  {
   "cell_type": "markdown",
   "metadata": {
    "slideshow": {
     "slide_type": "subslide"
    }
   },
   "source": [
    "# Les données manquantes\n",
    "\n",
    "Dans pandas, les données manquantes sont identifiés avec les fonctions de Numpy (`np.nan`). On a d'autres fonctions telles que :"
   ]
  },
  {
   "cell_type": "code",
   "execution_count": 9,
   "metadata": {
    "slideshow": {
     "slide_type": "fragment"
    }
   },
   "outputs": [
    {
     "data": {
      "text/plain": [
       "a    False\n",
       "b     True\n",
       "c    False\n",
       "dtype: bool"
      ]
     },
     "execution_count": 9,
     "metadata": {},
     "output_type": "execute_result"
    }
   ],
   "source": [
    "pd.isna(pd.Series([2,np.nan,4],index=['a','b','c']))"
   ]
  },
  {
   "cell_type": "code",
   "execution_count": 10,
   "metadata": {
    "slideshow": {
     "slide_type": "fragment"
    }
   },
   "outputs": [
    {
     "data": {
      "text/plain": [
       "a     True\n",
       "b    False\n",
       "c     True\n",
       "dtype: bool"
      ]
     },
     "execution_count": 10,
     "metadata": {},
     "output_type": "execute_result"
    }
   ],
   "source": [
    "pd.notna(pd.Series([2,np.nan,4],index=['a','b','c']))"
   ]
  },
  {
   "cell_type": "code",
   "execution_count": 11,
   "metadata": {},
   "outputs": [
    {
     "data": {
      "text/plain": [
       "3.0"
      ]
     },
     "execution_count": 11,
     "metadata": {},
     "output_type": "execute_result"
    }
   ],
   "source": [
    "pd.Series([2,np.nan,4],index=['a','b','c']).mean()"
   ]
  },
  {
   "cell_type": "code",
   "execution_count": null,
   "metadata": {},
   "outputs": [],
   "source": []
  },
  {
   "cell_type": "markdown",
   "metadata": {
    "slideshow": {
     "slide_type": "slide"
    }
   },
   "source": [
    "# Les dates avec pandas\n",
    "\n",
    "- Python possède un module datetime qui permet de gérer facilement des dates\n",
    "- Pandas permet d'appliquer les opérations sur les dates aux Series et aux DataFrame\n",
    "- Le format es dates Python est `YYYY-MM-DD HH:MM:SS`\n",
    "\n",
    "- On peut générer des dates avec la fonction `pd.date_range()` avec différente fréquences `freq=`\n",
    "- On peut utiliser ces dates comme index dans un DataFrame ou dans un objet Series\n",
    "- On peut changer la fréquence en utilisant `.asfreq()`\n",
    "- Pour transformer une chaine de caractère en date, on utilise `pd.to_datetime()` avec l’option `dayfirst=True` si on est dans le cas français\n",
    "-On pourra aussi spécifier un format pour accélérer le processus `%Y%m%d`"
   ]
  },
  {
   "cell_type": "markdown",
   "metadata": {
    "slideshow": {
     "slide_type": "subslide"
    }
   },
   "source": [
    "**Exercice :**\n",
    "\n",
    "Créez un objet Series et ajoutez des dates partant du 3 octobre 2017 par jour jusqu’à aujourd’hui. Afficher le résultat dans un graphique (on utilisera la méthode `.plot()`"
   ]
  },
  {
   "cell_type": "code",
   "execution_count": 12,
   "metadata": {
    "slideshow": {
     "slide_type": "fragment"
    }
   },
   "outputs": [
    {
     "data": {
      "text/plain": [
       "<matplotlib.axes._subplots.AxesSubplot at 0x2a96adebb08>"
      ]
     },
     "execution_count": 12,
     "metadata": {},
     "output_type": "execute_result"
    },
    {
     "data": {
      "image/png": "[encoded data removed]",
      "text/plain": [
       "<Figure size 432x288 with 1 Axes>"
      ]
     },
     "metadata": {
      "needs_background": "light"
     },
     "output_type": "display_data"
    }
   ],
   "source": [
    "dates = pd.date_range(\"2017-11-03\",pd.datetime.today(),freq=\"M\")\n",
    "\n",
    "serie_dates = pd.Series(np.random.randn(len(dates)),index=dates)\n",
    "serie_dates.plot()"
   ]
  },
  {
   "cell_type": "markdown",
   "metadata": {
    "slideshow": {
     "slide_type": "slide"
    }
   },
   "source": [
    "# Le DataFrame \n",
    "\n",
    "- Les DataFrame sont des objets très souples pouvant être construits de différentes façon\n",
    "- On peut les construire en récupérant des données copier / coller, où directement sur Internet, ou en entrant les valeurs manuellement\n",
    "\n",
    "\n",
    "- Les DataFrame se rapprochent des dictionnaires et on peut construire ces objets en utilisant `DataFrame(dico)`\n",
    "- De nombreux détails sur la création des DataFrame se trouve sur ce site :\n",
    "\n",
    "<http://pandas.pydata.org/pandas-docs/dev/generated/pandas.DataFrame.html>\n"
   ]
  },
  {
   "cell_type": "markdown",
   "metadata": {
    "slideshow": {
     "slide_type": "subslide"
    }
   },
   "source": [
    "# Construction de DataFrame\n",
    "\n",
    "On peut simplement construire un DataFrame avec le classe pd.DataFrame() à partir de différentes structures :"
   ]
  },
  {
   "cell_type": "code",
   "execution_count": 13,
   "metadata": {
    "slideshow": {
     "slide_type": "fragment"
    }
   },
   "outputs": [
    {
     "data": {
      "text/html": [
       "<div>\n",
       "<style scoped>\n",
       "    .dataframe tbody tr th:only-of-type {\n",
       "        vertical-align: middle;\n",
       "    }\n",
       "\n",
       "    .dataframe tbody tr th {\n",
       "        vertical-align: top;\n",
       "    }\n",
       "\n",
       "    .dataframe thead th {\n",
       "        text-align: right;\n",
       "    }\n",
       "</style>\n",
       "<table border=\"1\" class=\"dataframe\">\n",
       "  <thead>\n",
       "    <tr style=\"text-align: right;\">\n",
       "      <th></th>\n",
       "      <th>col_0</th>\n",
       "      <th>col_1</th>\n",
       "    </tr>\n",
       "  </thead>\n",
       "  <tbody>\n",
       "    <tr>\n",
       "      <th>obs_0</th>\n",
       "      <td>1.012821</td>\n",
       "      <td>-0.094583</td>\n",
       "    </tr>\n",
       "    <tr>\n",
       "      <th>obs_1</th>\n",
       "      <td>-0.058863</td>\n",
       "      <td>-0.761978</td>\n",
       "    </tr>\n",
       "    <tr>\n",
       "      <th>obs_2</th>\n",
       "      <td>-2.328167</td>\n",
       "      <td>0.999037</td>\n",
       "    </tr>\n",
       "    <tr>\n",
       "      <th>obs_3</th>\n",
       "      <td>0.984147</td>\n",
       "      <td>2.449559</td>\n",
       "    </tr>\n",
       "    <tr>\n",
       "      <th>obs_4</th>\n",
       "      <td>-0.798088</td>\n",
       "      <td>-0.624933</td>\n",
       "    </tr>\n",
       "  </tbody>\n",
       "</table>\n",
       "</div>"
      ],
      "text/plain": [
       "          col_0     col_1\n",
       "obs_0  1.012821 -0.094583\n",
       "obs_1 -0.058863 -0.761978\n",
       "obs_2 -2.328167  0.999037\n",
       "obs_3  0.984147  2.449559\n",
       "obs_4 -0.798088 -0.624933"
      ]
     },
     "execution_count": 13,
     "metadata": {},
     "output_type": "execute_result"
    }
   ],
   "source": [
    "frame1=pd.DataFrame(np.random.randn(10).reshape(5,2),\n",
    "             index=[\"obs_\"+str(i) for i in range(5)],\n",
    "             columns=[\"col_\"+str(i) for i in range(2)])\n",
    "frame1"
   ]
  },
  {
   "cell_type": "markdown",
   "metadata": {
    "slideshow": {
     "slide_type": "subslide"
    }
   },
   "source": [
    "# Opérations sur les DataFrame\n",
    "\n",
    "On peut afficher le nom des colonnes :"
   ]
  },
  {
   "cell_type": "code",
   "execution_count": 14,
   "metadata": {
    "slideshow": {
     "slide_type": "fragment"
    }
   },
   "outputs": [
    {
     "name": "stdout",
     "output_type": "stream",
     "text": [
      "Index(['col_0', 'col_1'], dtype='object')\n"
     ]
    }
   ],
   "source": [
    "print(frame1.columns)"
   ]
  },
  {
   "cell_type": "markdown",
   "metadata": {
    "slideshow": {
     "slide_type": "fragment"
    }
   },
   "source": [
    "On peut accéder à une colonne avec :\n",
    "- `frame1.col_0` : attention au cas de nom de colonnes avec des espaces...\n",
    "- `frame1['col_0']`\n",
    "\n",
    "On peut accéder à une cellule avec :\n",
    "- `frame1.loc['obs1','col_0']` : on utilise les index et le nom des colonnes\n",
    "- `frame1.iloc[1,0]` : on utilise les positions dans le DataFrame\n"
   ]
  },
  {
   "cell_type": "markdown",
   "metadata": {
    "slideshow": {
     "slide_type": "subslide"
    }
   },
   "source": [
    "# Options de visualisation et de résumé\n",
    "\n",
    "Pour afficher les 3 premières lignes, on peut utiliser :\n"
   ]
  },
  {
   "cell_type": "code",
   "execution_count": 15,
   "metadata": {
    "slideshow": {
     "slide_type": "fragment"
    }
   },
   "outputs": [
    {
     "data": {
      "text/html": [
       "<div>\n",
       "<style scoped>\n",
       "    .dataframe tbody tr th:only-of-type {\n",
       "        vertical-align: middle;\n",
       "    }\n",
       "\n",
       "    .dataframe tbody tr th {\n",
       "        vertical-align: top;\n",
       "    }\n",
       "\n",
       "    .dataframe thead th {\n",
       "        text-align: right;\n",
       "    }\n",
       "</style>\n",
       "<table border=\"1\" class=\"dataframe\">\n",
       "  <thead>\n",
       "    <tr style=\"text-align: right;\">\n",
       "      <th></th>\n",
       "      <th>col_0</th>\n",
       "      <th>col_1</th>\n",
       "    </tr>\n",
       "  </thead>\n",
       "  <tbody>\n",
       "    <tr>\n",
       "      <th>obs_0</th>\n",
       "      <td>1.012821</td>\n",
       "      <td>-0.094583</td>\n",
       "    </tr>\n",
       "    <tr>\n",
       "      <th>obs_1</th>\n",
       "      <td>-0.058863</td>\n",
       "      <td>-0.761978</td>\n",
       "    </tr>\n",
       "    <tr>\n",
       "      <th>obs_2</th>\n",
       "      <td>-2.328167</td>\n",
       "      <td>0.999037</td>\n",
       "    </tr>\n",
       "  </tbody>\n",
       "</table>\n",
       "</div>"
      ],
      "text/plain": [
       "          col_0     col_1\n",
       "obs_0  1.012821 -0.094583\n",
       "obs_1 -0.058863 -0.761978\n",
       "obs_2 -2.328167  0.999037"
      ]
     },
     "execution_count": 15,
     "metadata": {},
     "output_type": "execute_result"
    }
   ],
   "source": [
    "frame1.head(3)"
   ]
  },
  {
   "cell_type": "markdown",
   "metadata": {
    "slideshow": {
     "slide_type": "subslide"
    }
   },
   "source": [
    "Pour afficher un résumé du DF :"
   ]
  },
  {
   "cell_type": "code",
   "execution_count": 16,
   "metadata": {
    "slideshow": {
     "slide_type": "fragment"
    }
   },
   "outputs": [
    {
     "name": "stdout",
     "output_type": "stream",
     "text": [
      "<class 'pandas.core.frame.DataFrame'>\n",
      "Index: 5 entries, obs_0 to obs_4\n",
      "Data columns (total 2 columns):\n",
      "col_0    5 non-null float64\n",
      "col_1    5 non-null float64\n",
      "dtypes: float64(2)\n",
      "memory usage: 120.0+ bytes\n"
     ]
    }
   ],
   "source": [
    "frame1.info()"
   ]
  },
  {
   "cell_type": "markdown",
   "metadata": {
    "slideshow": {
     "slide_type": "slide"
    }
   },
   "source": [
    "# Importer des données externes\n",
    "\n",
    "Pandas est l'outil le plus efficace pour importer des données externes, il prend en charge de nombreux formats dont csv, Excel, SQL, SAS...\n",
    "\n",
    "\n",
    "## Importation de données avec Pandas\n",
    "\n",
    "Quel que soit le type de fichier, Pandas possède une fonction :\n",
    "```python\n",
    "frame=pd.read_...('chemin_du_fichier/nom_du_fichier',...)\n",
    "```\n",
    "Pour écrire un DataFrame dans un fichier, on utilise :\n",
    "```python\n",
    "frame.to_...('chemin_du_fichier/nom_du_fichier',...)\n",
    "```"
   ]
  },
  {
   "cell_type": "markdown",
   "metadata": {
    "slideshow": {
     "slide_type": "subslide"
    }
   },
   "source": [
    "**Exercice :**\n",
    "    \n",
    "Importer un fichier `.csv` avec `pd.read_csv()`. On utilisera le fichier \"./data/airbnb.csv\""
   ]
  },
  {
   "cell_type": "code",
   "execution_count": 17,
   "metadata": {},
   "outputs": [
    {
     "name": "stderr",
     "output_type": "stream",
     "text": [
      "C:\\Users\\s4d-asus-14\\Anaconda3\\lib\\site-packages\\IPython\\core\\interactiveshell.py:3058: DtypeWarning: Columns (43,61,62) have mixed types. Specify dtype option on import or set low_memory=False.\n",
      "  interactivity=interactivity, compiler=compiler, result=result)\n"
     ]
    }
   ],
   "source": [
    "airbnb = pd.read_csv(\"https://www.stat4decision.com/airbnb.csv\")"
   ]
  },
  {
   "cell_type": "code",
   "execution_count": 18,
   "metadata": {},
   "outputs": [
    {
     "data": {
      "text/html": [
       "<div>\n",
       "<style scoped>\n",
       "    .dataframe tbody tr th:only-of-type {\n",
       "        vertical-align: middle;\n",
       "    }\n",
       "\n",
       "    .dataframe tbody tr th {\n",
       "        vertical-align: top;\n",
       "    }\n",
       "\n",
       "    .dataframe thead th {\n",
       "        text-align: right;\n",
       "    }\n",
       "</style>\n",
       "<table border=\"1\" class=\"dataframe\">\n",
       "  <thead>\n",
       "    <tr style=\"text-align: right;\">\n",
       "      <th></th>\n",
       "      <th>id</th>\n",
       "      <th>listing_url</th>\n",
       "      <th>scrape_id</th>\n",
       "      <th>last_scraped</th>\n",
       "      <th>name</th>\n",
       "      <th>summary</th>\n",
       "      <th>space</th>\n",
       "      <th>description</th>\n",
       "      <th>experiences_offered</th>\n",
       "      <th>neighborhood_overview</th>\n",
       "      <th>...</th>\n",
       "      <th>instant_bookable</th>\n",
       "      <th>is_business_travel_ready</th>\n",
       "      <th>cancellation_policy</th>\n",
       "      <th>require_guest_profile_picture</th>\n",
       "      <th>require_guest_phone_verification</th>\n",
       "      <th>calculated_host_listings_count</th>\n",
       "      <th>calculated_host_listings_count_entire_homes</th>\n",
       "      <th>calculated_host_listings_count_private_rooms</th>\n",
       "      <th>calculated_host_listings_count_shared_rooms</th>\n",
       "      <th>reviews_per_month</th>\n",
       "    </tr>\n",
       "  </thead>\n",
       "  <tbody>\n",
       "    <tr>\n",
       "      <th>0</th>\n",
       "      <td>3109</td>\n",
       "      <td>https://www.airbnb.com/rooms/3109</td>\n",
       "      <td>20190507030954</td>\n",
       "      <td>2019-05-07</td>\n",
       "      <td>zen and calm</td>\n",
       "      <td>Appartement très calme de 50M2 Utilisation de ...</td>\n",
       "      <td>I bedroom appartment in Paris 14</td>\n",
       "      <td>I bedroom appartment in Paris 14 Good restaura...</td>\n",
       "      <td>none</td>\n",
       "      <td>Good restaurants very close the Montparnasse S...</td>\n",
       "      <td>...</td>\n",
       "      <td>f</td>\n",
       "      <td>f</td>\n",
       "      <td>flexible</td>\n",
       "      <td>f</td>\n",
       "      <td>f</td>\n",
       "      <td>1</td>\n",
       "      <td>1</td>\n",
       "      <td>0</td>\n",
       "      <td>0</td>\n",
       "      <td>0.28</td>\n",
       "    </tr>\n",
       "    <tr>\n",
       "      <th>1</th>\n",
       "      <td>5396</td>\n",
       "      <td>https://www.airbnb.com/rooms/5396</td>\n",
       "      <td>20190507030954</td>\n",
       "      <td>2019-05-08</td>\n",
       "      <td>Explore the heart of old Paris</td>\n",
       "      <td>Cozy, well-appointed and graciously designed s...</td>\n",
       "      <td>Small, well appointed studio apartment at the ...</td>\n",
       "      <td>Cozy, well-appointed and graciously designed s...</td>\n",
       "      <td>none</td>\n",
       "      <td>You are within walking distance to the Louvre,...</td>\n",
       "      <td>...</td>\n",
       "      <td>t</td>\n",
       "      <td>f</td>\n",
       "      <td>strict_14_with_grace_period</td>\n",
       "      <td>f</td>\n",
       "      <td>f</td>\n",
       "      <td>1</td>\n",
       "      <td>1</td>\n",
       "      <td>0</td>\n",
       "      <td>0</td>\n",
       "      <td>1.44</td>\n",
       "    </tr>\n",
       "    <tr>\n",
       "      <th>2</th>\n",
       "      <td>7397</td>\n",
       "      <td>https://www.airbnb.com/rooms/7397</td>\n",
       "      <td>20190507030954</td>\n",
       "      <td>2019-05-07</td>\n",
       "      <td>MARAIS - 2ROOMS APT - 2/4 PEOPLE</td>\n",
       "      <td>VERY CONVENIENT, WITH THE BEST LOCATION !</td>\n",
       "      <td>PLEASE ASK ME BEFORE TO MAKE A REQUEST !!! No ...</td>\n",
       "      <td>VERY CONVENIENT, WITH THE BEST LOCATION ! PLEA...</td>\n",
       "      <td>none</td>\n",
       "      <td>NaN</td>\n",
       "      <td>...</td>\n",
       "      <td>f</td>\n",
       "      <td>f</td>\n",
       "      <td>moderate</td>\n",
       "      <td>f</td>\n",
       "      <td>f</td>\n",
       "      <td>1</td>\n",
       "      <td>1</td>\n",
       "      <td>0</td>\n",
       "      <td>0</td>\n",
       "      <td>2.47</td>\n",
       "    </tr>\n",
       "  </tbody>\n",
       "</table>\n",
       "<p>3 rows × 106 columns</p>\n",
       "</div>"
      ],
      "text/plain": [
       "     id                        listing_url       scrape_id last_scraped  \\\n",
       "0  3109  https://www.airbnb.com/rooms/3109  20190507030954   2019-05-07   \n",
       "1  5396  https://www.airbnb.com/rooms/5396  20190507030954   2019-05-08   \n",
       "2  7397  https://www.airbnb.com/rooms/7397  20190507030954   2019-05-07   \n",
       "\n",
       "                               name  \\\n",
       "0                      zen and calm   \n",
       "1    Explore the heart of old Paris   \n",
       "2  MARAIS - 2ROOMS APT - 2/4 PEOPLE   \n",
       "\n",
       "                                             summary  \\\n",
       "0  Appartement très calme de 50M2 Utilisation de ...   \n",
       "1  Cozy, well-appointed and graciously designed s...   \n",
       "2          VERY CONVENIENT, WITH THE BEST LOCATION !   \n",
       "\n",
       "                                               space  \\\n",
       "0                   I bedroom appartment in Paris 14   \n",
       "1  Small, well appointed studio apartment at the ...   \n",
       "2  PLEASE ASK ME BEFORE TO MAKE A REQUEST !!! No ...   \n",
       "\n",
       "                                         description experiences_offered  \\\n",
       "0  I bedroom appartment in Paris 14 Good restaura...                none   \n",
       "1  Cozy, well-appointed and graciously designed s...                none   \n",
       "2  VERY CONVENIENT, WITH THE BEST LOCATION ! PLEA...                none   \n",
       "\n",
       "                               neighborhood_overview  ... instant_bookable  \\\n",
       "0  Good restaurants very close the Montparnasse S...  ...                f   \n",
       "1  You are within walking distance to the Louvre,...  ...                t   \n",
       "2                                                NaN  ...                f   \n",
       "\n",
       "  is_business_travel_ready          cancellation_policy  \\\n",
       "0                        f                     flexible   \n",
       "1                        f  strict_14_with_grace_period   \n",
       "2                        f                     moderate   \n",
       "\n",
       "  require_guest_profile_picture require_guest_phone_verification  \\\n",
       "0                             f                                f   \n",
       "1                             f                                f   \n",
       "2                             f                                f   \n",
       "\n",
       "   calculated_host_listings_count  \\\n",
       "0                               1   \n",
       "1                               1   \n",
       "2                               1   \n",
       "\n",
       "   calculated_host_listings_count_entire_homes  \\\n",
       "0                                            1   \n",
       "1                                            1   \n",
       "2                                            1   \n",
       "\n",
       "  calculated_host_listings_count_private_rooms  \\\n",
       "0                                            0   \n",
       "1                                            0   \n",
       "2                                            0   \n",
       "\n",
       "   calculated_host_listings_count_shared_rooms  reviews_per_month  \n",
       "0                                            0               0.28  \n",
       "1                                            0               1.44  \n",
       "2                                            0               2.47  \n",
       "\n",
       "[3 rows x 106 columns]"
      ]
     },
     "execution_count": 18,
     "metadata": {},
     "output_type": "execute_result"
    }
   ],
   "source": [
    "airbnb.head(3)"
   ]
  },
  {
   "cell_type": "code",
   "execution_count": 19,
   "metadata": {},
   "outputs": [
    {
     "data": {
      "text/plain": [
       "0         $75.00\n",
       "1        $115.00\n",
       "2        $115.00\n",
       "3         $90.00\n",
       "4         $75.00\n",
       "          ...   \n",
       "59121     $50.00\n",
       "59122    $350.00\n",
       "59123     $80.00\n",
       "59124     $32.00\n",
       "59125     $60.00\n",
       "Name: price, Length: 59126, dtype: object"
      ]
     },
     "execution_count": 19,
     "metadata": {},
     "output_type": "execute_result"
    }
   ],
   "source": [
    "airbnb['price']"
   ]
  },
  {
   "cell_type": "code",
   "execution_count": 20,
   "metadata": {},
   "outputs": [
    {
     "name": "stdout",
     "output_type": "stream",
     "text": [
      "<class 'pandas.core.frame.DataFrame'>\n",
      "RangeIndex: 59126 entries, 0 to 59125\n",
      "Data columns (total 106 columns):\n",
      "id                                              int64\n",
      "listing_url                                     object\n",
      "scrape_id                                       int64\n",
      "last_scraped                                    object\n",
      "name                                            object\n",
      "summary                                         object\n",
      "space                                           object\n",
      "description                                     object\n",
      "experiences_offered                             object\n",
      "neighborhood_overview                           object\n",
      "notes                                           object\n",
      "transit                                         object\n",
      "access                                          object\n",
      "interaction                                     object\n",
      "house_rules                                     object\n",
      "thumbnail_url                                   float64\n",
      "medium_url                                      float64\n",
      "picture_url                                     object\n",
      "xl_picture_url                                  float64\n",
      "host_id                                         int64\n",
      "host_url                                        object\n",
      "host_name                                       object\n",
      "host_since                                      object\n",
      "host_location                                   object\n",
      "host_about                                      object\n",
      "host_response_time                              object\n",
      "host_response_rate                              object\n",
      "host_acceptance_rate                            float64\n",
      "host_is_superhost                               object\n",
      "host_thumbnail_url                              object\n",
      "host_picture_url                                object\n",
      "host_neighbourhood                              object\n",
      "host_listings_count                             float64\n",
      "host_total_listings_count                       float64\n",
      "host_verifications                              object\n",
      "host_has_profile_pic                            object\n",
      "host_identity_verified                          object\n",
      "street                                          object\n",
      "neighbourhood                                   object\n",
      "neighbourhood_cleansed                          object\n",
      "neighbourhood_group_cleansed                    float64\n",
      "city                                            object\n",
      "state                                           object\n",
      "zipcode                                         object\n",
      "market                                          object\n",
      "smart_location                                  object\n",
      "country_code                                    object\n",
      "country                                         object\n",
      "latitude                                        float64\n",
      "longitude                                       float64\n",
      "is_location_exact                               object\n",
      "property_type                                   object\n",
      "room_type                                       object\n",
      "accommodates                                    int64\n",
      "bathrooms                                       float64\n",
      "bedrooms                                        float64\n",
      "beds                                            float64\n",
      "bed_type                                        object\n",
      "amenities                                       object\n",
      "square_feet                                     float64\n",
      "price                                           object\n",
      "weekly_price                                    object\n",
      "monthly_price                                   object\n",
      "security_deposit                                object\n",
      "cleaning_fee                                    object\n",
      "guests_included                                 int64\n",
      "extra_people                                    object\n",
      "minimum_nights                                  int64\n",
      "maximum_nights                                  int64\n",
      "minimum_minimum_nights                          int64\n",
      "maximum_minimum_nights                          int64\n",
      "minimum_maximum_nights                          int64\n",
      "maximum_maximum_nights                          int64\n",
      "minimum_nights_avg_ntm                          float64\n",
      "maximum_nights_avg_ntm                          float64\n",
      "calendar_updated                                object\n",
      "has_availability                                object\n",
      "availability_30                                 int64\n",
      "availability_60                                 int64\n",
      "availability_90                                 int64\n",
      "availability_365                                int64\n",
      "calendar_last_scraped                           object\n",
      "number_of_reviews                               int64\n",
      "number_of_reviews_ltm                           int64\n",
      "first_review                                    object\n",
      "last_review                                     object\n",
      "review_scores_rating                            float64\n",
      "review_scores_accuracy                          float64\n",
      "review_scores_cleanliness                       float64\n",
      "review_scores_checkin                           float64\n",
      "review_scores_communication                     float64\n",
      "review_scores_location                          float64\n",
      "review_scores_value                             float64\n",
      "requires_license                                object\n",
      "license                                         object\n",
      "jurisdiction_names                              object\n",
      "instant_bookable                                object\n",
      "is_business_travel_ready                        object\n",
      "cancellation_policy                             object\n",
      "require_guest_profile_picture                   object\n",
      "require_guest_phone_verification                object\n",
      "calculated_host_listings_count                  int64\n",
      "calculated_host_listings_count_entire_homes     int64\n",
      "calculated_host_listings_count_private_rooms    int64\n",
      "calculated_host_listings_count_shared_rooms     int64\n",
      "reviews_per_month                               float64\n",
      "dtypes: float64(23), int64(21), object(62)\n",
      "memory usage: 47.8+ MB\n"
     ]
    }
   ],
   "source": [
    "airbnb.info(verbose=1)"
   ]
  },
  {
   "cell_type": "code",
   "execution_count": 21,
   "metadata": {},
   "outputs": [
    {
     "data": {
      "text/plain": [
       "{PARIS}                     57935\n",
       "{Paris}                       121\n",
       "{\"BOULOGNE BILLANCOURT\"}       62\n",
       "{\"ISSY LES MOULINEAUX\"}        46\n",
       "{\"NEUILLY SUR SEINE\"}          42\n",
       "{\"LEVALLOIS PERRET\"}           32\n",
       "{GENTILLY}                     31\n",
       "{\"SAINT OUEN\"}                 23\n",
       "{\"ASNIERES SUR SEINE\"}         22\n",
       "{VINCENNES}                    18\n",
       "{CLICHY}                       17\n",
       "{\"CHARENTON LE PONT\"}          16\n",
       "{AUBERVILLIERS}                13\n",
       "{\"IVRY SUR SEINE\"}             13\n",
       "{PANTIN}                       12\n",
       "{BAGNOLET}                     11\n",
       "{\"SAINT MAURICE\"}              10\n",
       "{\"LE KREMLIN BICETRE\"}          9\n",
       "{VANVES}                        8\n",
       "{\"NOGENT SUR MARNE\"}            3\n",
       "{\"SOULAC SUR MER\"}              2\n",
       "{SURESNES}                      2\n",
       "{MONTREUIL}                     2\n",
       "{\"BRAS PANON\"}                  2\n",
       "{\"SAINT JEAN LE BLANC\"}         1\n",
       "{\"FONTENAY SOUS BOIS\"}          1\n",
       "{\"PARIS LHOPITAL\"}              1\n",
       "{\"CHAMONIX MONT BLANC\"}         1\n",
       "{\"PORT DE BOUC\"}                1\n",
       "Name: jurisdiction_names, dtype: int64"
      ]
     },
     "execution_count": 21,
     "metadata": {},
     "output_type": "execute_result"
    }
   ],
   "source": [
    "airbnb[\"jurisdiction_names\"].value_counts()"
   ]
  },
  {
   "cell_type": "markdown",
   "metadata": {
    "slideshow": {
     "slide_type": "subslide"
    }
   },
   "source": [
    "# D'autres types de données\n",
    "\n",
    "## JSON\n",
    "Les objets JSON ressemblent à des dictionnaires.\n",
    "\n",
    "On utilise le module `json` puis la fonction `json.loads()` pour transformer une entrée JSON en objet json\n",
    "\n",
    "## HTML\n",
    "On utilise `pd.read_html(url)`. Cet fonction est basée sur les packages `beautifulsoup` et `html5lib`\n",
    "\n",
    "Cette fonction renvoie une liste de DataFrame qui représentent tous les DataFrame de la page. On ira ensuite chercher l'élément qui nous intéresse avec `frame_list[0]`"
   ]
  },
  {
   "cell_type": "markdown",
   "metadata": {
    "slideshow": {
     "slide_type": "subslide"
    }
   },
   "source": [
    "**Exercice :**\n",
    "    \n",
    "Importez un tableau en html depuis la page <http://www.fdic.gov/bank/individual/failed/banklist.html>"
   ]
  },
  {
   "cell_type": "code",
   "execution_count": 22,
   "metadata": {},
   "outputs": [],
   "source": [
    "bank = pd.read_html(\"http://www.fdic.gov/bank/individual/failed/banklist.html\")"
   ]
  },
  {
   "cell_type": "code",
   "execution_count": 23,
   "metadata": {},
   "outputs": [
    {
     "data": {
      "text/plain": [
       "list"
      ]
     },
     "execution_count": 23,
     "metadata": {},
     "output_type": "execute_result"
    }
   ],
   "source": [
    "type(bank)"
   ]
  },
  {
   "cell_type": "code",
   "execution_count": 24,
   "metadata": {},
   "outputs": [
    {
     "data": {
      "text/html": [
       "<div>\n",
       "<style scoped>\n",
       "    .dataframe tbody tr th:only-of-type {\n",
       "        vertical-align: middle;\n",
       "    }\n",
       "\n",
       "    .dataframe tbody tr th {\n",
       "        vertical-align: top;\n",
       "    }\n",
       "\n",
       "    .dataframe thead th {\n",
       "        text-align: right;\n",
       "    }\n",
       "</style>\n",
       "<table border=\"1\" class=\"dataframe\">\n",
       "  <thead>\n",
       "    <tr style=\"text-align: right;\">\n",
       "      <th></th>\n",
       "      <th>Bank Name</th>\n",
       "      <th>City</th>\n",
       "      <th>ST</th>\n",
       "      <th>CERT</th>\n",
       "      <th>Acquiring Institution</th>\n",
       "      <th>Closing Date</th>\n",
       "      <th>Updated Date</th>\n",
       "    </tr>\n",
       "  </thead>\n",
       "  <tbody>\n",
       "    <tr>\n",
       "      <th>0</th>\n",
       "      <td>City National Bank of New Jersey</td>\n",
       "      <td>Newark</td>\n",
       "      <td>NJ</td>\n",
       "      <td>21111</td>\n",
       "      <td>Industrial Bank</td>\n",
       "      <td>November 1, 2019</td>\n",
       "      <td>November 7, 2019</td>\n",
       "    </tr>\n",
       "    <tr>\n",
       "      <th>1</th>\n",
       "      <td>Resolute Bank</td>\n",
       "      <td>Maumee</td>\n",
       "      <td>OH</td>\n",
       "      <td>58317</td>\n",
       "      <td>Buckeye State Bank</td>\n",
       "      <td>October 25, 2019</td>\n",
       "      <td>November 12, 2019</td>\n",
       "    </tr>\n",
       "    <tr>\n",
       "      <th>2</th>\n",
       "      <td>Louisa Community Bank</td>\n",
       "      <td>Louisa</td>\n",
       "      <td>KY</td>\n",
       "      <td>58112</td>\n",
       "      <td>Kentucky Farmers Bank Corporation</td>\n",
       "      <td>October 25, 2019</td>\n",
       "      <td>November 7, 2019</td>\n",
       "    </tr>\n",
       "    <tr>\n",
       "      <th>3</th>\n",
       "      <td>The Enloe State Bank</td>\n",
       "      <td>Cooper</td>\n",
       "      <td>TX</td>\n",
       "      <td>10716</td>\n",
       "      <td>Legend Bank, N. A.</td>\n",
       "      <td>May 31, 2019</td>\n",
       "      <td>August 22, 2019</td>\n",
       "    </tr>\n",
       "    <tr>\n",
       "      <th>4</th>\n",
       "      <td>Washington Federal Bank for Savings</td>\n",
       "      <td>Chicago</td>\n",
       "      <td>IL</td>\n",
       "      <td>30570</td>\n",
       "      <td>Royal Savings Bank</td>\n",
       "      <td>December 15, 2017</td>\n",
       "      <td>July 24, 2019</td>\n",
       "    </tr>\n",
       "    <tr>\n",
       "      <th>...</th>\n",
       "      <td>...</td>\n",
       "      <td>...</td>\n",
       "      <td>...</td>\n",
       "      <td>...</td>\n",
       "      <td>...</td>\n",
       "      <td>...</td>\n",
       "      <td>...</td>\n",
       "    </tr>\n",
       "    <tr>\n",
       "      <th>554</th>\n",
       "      <td>Superior Bank, FSB</td>\n",
       "      <td>Hinsdale</td>\n",
       "      <td>IL</td>\n",
       "      <td>32646</td>\n",
       "      <td>Superior Federal, FSB</td>\n",
       "      <td>July 27, 2001</td>\n",
       "      <td>August 19, 2014</td>\n",
       "    </tr>\n",
       "    <tr>\n",
       "      <th>555</th>\n",
       "      <td>Malta National Bank</td>\n",
       "      <td>Malta</td>\n",
       "      <td>OH</td>\n",
       "      <td>6629</td>\n",
       "      <td>North Valley Bank</td>\n",
       "      <td>May 3, 2001</td>\n",
       "      <td>November 18, 2002</td>\n",
       "    </tr>\n",
       "    <tr>\n",
       "      <th>556</th>\n",
       "      <td>First Alliance Bank &amp; Trust Co.</td>\n",
       "      <td>Manchester</td>\n",
       "      <td>NH</td>\n",
       "      <td>34264</td>\n",
       "      <td>Southern New Hampshire Bank &amp; Trust</td>\n",
       "      <td>February 2, 2001</td>\n",
       "      <td>February 18, 2003</td>\n",
       "    </tr>\n",
       "    <tr>\n",
       "      <th>557</th>\n",
       "      <td>National State Bank of Metropolis</td>\n",
       "      <td>Metropolis</td>\n",
       "      <td>IL</td>\n",
       "      <td>3815</td>\n",
       "      <td>Banterra Bank of Marion</td>\n",
       "      <td>December 14, 2000</td>\n",
       "      <td>March 17, 2005</td>\n",
       "    </tr>\n",
       "    <tr>\n",
       "      <th>558</th>\n",
       "      <td>Bank of Honolulu</td>\n",
       "      <td>Honolulu</td>\n",
       "      <td>HI</td>\n",
       "      <td>21029</td>\n",
       "      <td>Bank of the Orient</td>\n",
       "      <td>October 13, 2000</td>\n",
       "      <td>March 17, 2005</td>\n",
       "    </tr>\n",
       "  </tbody>\n",
       "</table>\n",
       "<p>559 rows × 7 columns</p>\n",
       "</div>"
      ],
      "text/plain": [
       "                               Bank Name        City  ST   CERT  \\\n",
       "0       City National Bank of New Jersey      Newark  NJ  21111   \n",
       "1                          Resolute Bank      Maumee  OH  58317   \n",
       "2                  Louisa Community Bank      Louisa  KY  58112   \n",
       "3                   The Enloe State Bank      Cooper  TX  10716   \n",
       "4    Washington Federal Bank for Savings     Chicago  IL  30570   \n",
       "..                                   ...         ...  ..    ...   \n",
       "554                   Superior Bank, FSB    Hinsdale  IL  32646   \n",
       "555                  Malta National Bank       Malta  OH   6629   \n",
       "556      First Alliance Bank & Trust Co.  Manchester  NH  34264   \n",
       "557    National State Bank of Metropolis  Metropolis  IL   3815   \n",
       "558                     Bank of Honolulu    Honolulu  HI  21029   \n",
       "\n",
       "                   Acquiring Institution       Closing Date       Updated Date  \n",
       "0                        Industrial Bank   November 1, 2019   November 7, 2019  \n",
       "1                     Buckeye State Bank   October 25, 2019  November 12, 2019  \n",
       "2      Kentucky Farmers Bank Corporation   October 25, 2019   November 7, 2019  \n",
       "3                     Legend Bank, N. A.       May 31, 2019    August 22, 2019  \n",
       "4                     Royal Savings Bank  December 15, 2017      July 24, 2019  \n",
       "..                                   ...                ...                ...  \n",
       "554                Superior Federal, FSB      July 27, 2001    August 19, 2014  \n",
       "555                    North Valley Bank        May 3, 2001  November 18, 2002  \n",
       "556  Southern New Hampshire Bank & Trust   February 2, 2001  February 18, 2003  \n",
       "557              Banterra Bank of Marion  December 14, 2000     March 17, 2005  \n",
       "558                   Bank of the Orient   October 13, 2000     March 17, 2005  \n",
       "\n",
       "[559 rows x 7 columns]"
      ]
     },
     "execution_count": 24,
     "metadata": {},
     "output_type": "execute_result"
    }
   ],
   "source": [
    "bank[0]"
   ]
  },
  {
   "cell_type": "markdown",
   "metadata": {
    "slideshow": {
     "slide_type": "subslide"
    }
   },
   "source": [
    "# Importer depuis Excel\n",
    "\n",
    "On a deux approches pour Excel :\n",
    "- On peut utiliser `pd.read_excel()`\n",
    "- On peut utiliser la classe `pd.ExcelFile()`\n",
    "\n",
    "Dans ce cas, on utilise :\n",
    "```python\n",
    "xlsfile=pd.ExcelFile('fichier.xlsx')\n",
    "xlsfile.parse('Sheet1')\n",
    "```"
   ]
  },
  {
   "cell_type": "markdown",
   "metadata": {
    "slideshow": {
     "slide_type": "subslide"
    }
   },
   "source": [
    "**Exercice :** \n",
    "    \n",
    "Importez un fichier Excel avec les deux approches, on utilisera : `credit2.xlsx` et `ville.xls`"
   ]
  },
  {
   "cell_type": "code",
   "execution_count": 25,
   "metadata": {},
   "outputs": [],
   "source": [
    "credit2 = pd.read_excel(\"./data/credit2.xlsx\")"
   ]
  },
  {
   "cell_type": "code",
   "execution_count": 26,
   "metadata": {},
   "outputs": [
    {
     "data": {
      "text/html": [
       "<div>\n",
       "<style scoped>\n",
       "    .dataframe tbody tr th:only-of-type {\n",
       "        vertical-align: middle;\n",
       "    }\n",
       "\n",
       "    .dataframe tbody tr th {\n",
       "        vertical-align: top;\n",
       "    }\n",
       "\n",
       "    .dataframe thead th {\n",
       "        text-align: right;\n",
       "    }\n",
       "</style>\n",
       "<table border=\"1\" class=\"dataframe\">\n",
       "  <thead>\n",
       "    <tr style=\"text-align: right;\">\n",
       "      <th></th>\n",
       "      <th>Age</th>\n",
       "      <th>Gender</th>\n",
       "      <th>Marital_Status</th>\n",
       "      <th>Age_Youngest_Child</th>\n",
       "      <th>Number_of_Workers_in_Household</th>\n",
       "      <th>Percentage_White_Collar_Workers</th>\n",
       "      <th>Household_Debt_to_Equity_Ratio</th>\n",
       "      <th>Income</th>\n",
       "      <th>Homeowner</th>\n",
       "      <th>Customer_ID</th>\n",
       "    </tr>\n",
       "  </thead>\n",
       "  <tbody>\n",
       "    <tr>\n",
       "      <th>0</th>\n",
       "      <td>40</td>\n",
       "      <td>F</td>\n",
       "      <td>S</td>\n",
       "      <td>11</td>\n",
       "      <td>6</td>\n",
       "      <td>37</td>\n",
       "      <td>56</td>\n",
       "      <td>37073</td>\n",
       "      <td>F</td>\n",
       "      <td>5409</td>\n",
       "    </tr>\n",
       "    <tr>\n",
       "      <th>1</th>\n",
       "      <td>47</td>\n",
       "      <td>M</td>\n",
       "      <td>M</td>\n",
       "      <td>13</td>\n",
       "      <td>13</td>\n",
       "      <td>30</td>\n",
       "      <td>56</td>\n",
       "      <td>50721</td>\n",
       "      <td>F</td>\n",
       "      <td>5477</td>\n",
       "    </tr>\n",
       "    <tr>\n",
       "      <th>2</th>\n",
       "      <td>35</td>\n",
       "      <td>F</td>\n",
       "      <td>U</td>\n",
       "      <td>1</td>\n",
       "      <td>9</td>\n",
       "      <td>33</td>\n",
       "      <td>57</td>\n",
       "      <td>43578</td>\n",
       "      <td>T</td>\n",
       "      <td>5507</td>\n",
       "    </tr>\n",
       "    <tr>\n",
       "      <th>3</th>\n",
       "      <td>45</td>\n",
       "      <td>M</td>\n",
       "      <td>U</td>\n",
       "      <td>15</td>\n",
       "      <td>7</td>\n",
       "      <td>30</td>\n",
       "      <td>62</td>\n",
       "      <td>69553</td>\n",
       "      <td>F</td>\n",
       "      <td>8</td>\n",
       "    </tr>\n",
       "    <tr>\n",
       "      <th>4</th>\n",
       "      <td>13</td>\n",
       "      <td>F</td>\n",
       "      <td>S</td>\n",
       "      <td>0</td>\n",
       "      <td>7</td>\n",
       "      <td>27</td>\n",
       "      <td>64</td>\n",
       "      <td>37502</td>\n",
       "      <td>T</td>\n",
       "      <td>158</td>\n",
       "    </tr>\n",
       "  </tbody>\n",
       "</table>\n",
       "</div>"
      ],
      "text/plain": [
       "   Age Gender Marital_Status  Age_Youngest_Child  \\\n",
       "0   40      F              S                  11   \n",
       "1   47      M              M                  13   \n",
       "2   35      F              U                   1   \n",
       "3   45      M              U                  15   \n",
       "4   13      F              S                   0   \n",
       "\n",
       "   Number_of_Workers_in_Household  Percentage_White_Collar_Workers  \\\n",
       "0                               6                               37   \n",
       "1                              13                               30   \n",
       "2                               9                               33   \n",
       "3                               7                               30   \n",
       "4                               7                               27   \n",
       "\n",
       "   Household_Debt_to_Equity_Ratio  Income Homeowner  Customer_ID  \n",
       "0                              56   37073         F         5409  \n",
       "1                              56   50721         F         5477  \n",
       "2                              57   43578         T         5507  \n",
       "3                              62   69553         F            8  \n",
       "4                              64   37502         T          158  "
      ]
     },
     "execution_count": 26,
     "metadata": {},
     "output_type": "execute_result"
    }
   ],
   "source": [
    "credit2.head()"
   ]
  },
  {
   "cell_type": "markdown",
   "metadata": {
    "slideshow": {
     "slide_type": "subslide"
    }
   },
   "source": [
    "# Importer des données SQL\n",
    "\n",
    "Pandas possède une fonction `read_sql()` qui permet d’importer directement des bases de données ou des queries dans des DataFrame\n",
    "\n",
    "Il faut tout de même un connecteur pour accéder aux bases de données\n",
    "\n",
    "Pour mettre en place ce connecteur, on utlise le package SQLAlchemy.\n",
    "\n",
    "Suivant le type de base de données, on utilisera différents codes mais la structure du code est toujours la même"
   ]
  },
  {
   "cell_type": "code",
   "execution_count": 27,
   "metadata": {
    "slideshow": {
     "slide_type": "subslide"
    }
   },
   "outputs": [],
   "source": [
    "# on importe l'outil de connexion\n",
    "from sqlalchemy import create_engine"
   ]
  },
  {
   "cell_type": "markdown",
   "metadata": {
    "slideshow": {
     "slide_type": "fragment"
    }
   },
   "source": [
    "On crée une connexion\n",
    "```python\n",
    "connexion=create_engine(\"sqlite:///___.sqlite\")\n",
    "```"
   ]
  },
  {
   "cell_type": "markdown",
   "metadata": {
    "slideshow": {
     "slide_type": "fragment"
    }
   },
   "source": [
    "On utlise une des fonctions de Pandas pour charger les données\n",
    "```python\n",
    "requete=\"\"\"select ... from ...\"\"\"\n",
    "frame_sql=pd.read_sql_query(requete,connexion)\n",
    "```"
   ]
  },
  {
   "cell_type": "markdown",
   "metadata": {
    "slideshow": {
     "slide_type": "subslide"
    }
   },
   "source": [
    "**Exercices :**\n",
    "    \n",
    "Importez la base de données SQLite salaries et récupérez la table Salaries dans un DataFrame "
   ]
  },
  {
   "cell_type": "code",
   "execution_count": 28,
   "metadata": {},
   "outputs": [],
   "source": [
    "connexion=create_engine(\"sqlite:///./data/salaries.sqlite\")"
   ]
  },
  {
   "cell_type": "code",
   "execution_count": 29,
   "metadata": {},
   "outputs": [
    {
     "data": {
      "text/plain": [
       "['Salaries']"
      ]
     },
     "execution_count": 29,
     "metadata": {},
     "output_type": "execute_result"
    }
   ],
   "source": [
    "connexion.table_names()"
   ]
  },
  {
   "cell_type": "code",
   "execution_count": 30,
   "metadata": {},
   "outputs": [],
   "source": [
    "requete=\"\"\"select * from Salaries\"\"\"\n",
    "frame_salaries=pd.read_sql_query(requete,connexion)"
   ]
  },
  {
   "cell_type": "code",
   "execution_count": 31,
   "metadata": {
    "scrolled": true
   },
   "outputs": [
    {
     "data": {
      "text/html": [
       "<div>\n",
       "<style scoped>\n",
       "    .dataframe tbody tr th:only-of-type {\n",
       "        vertical-align: middle;\n",
       "    }\n",
       "\n",
       "    .dataframe tbody tr th {\n",
       "        vertical-align: top;\n",
       "    }\n",
       "\n",
       "    .dataframe thead th {\n",
       "        text-align: right;\n",
       "    }\n",
       "</style>\n",
       "<table border=\"1\" class=\"dataframe\">\n",
       "  <thead>\n",
       "    <tr style=\"text-align: right;\">\n",
       "      <th></th>\n",
       "      <th>Id</th>\n",
       "      <th>EmployeeName</th>\n",
       "      <th>JobTitle</th>\n",
       "      <th>BasePay</th>\n",
       "      <th>OvertimePay</th>\n",
       "      <th>OtherPay</th>\n",
       "      <th>Benefits</th>\n",
       "      <th>TotalPay</th>\n",
       "      <th>TotalPayBenefits</th>\n",
       "      <th>Year</th>\n",
       "      <th>Notes</th>\n",
       "      <th>Agency</th>\n",
       "      <th>Status</th>\n",
       "    </tr>\n",
       "  </thead>\n",
       "  <tbody>\n",
       "    <tr>\n",
       "      <th>0</th>\n",
       "      <td>1</td>\n",
       "      <td>NATHANIEL FORD</td>\n",
       "      <td>GENERAL MANAGER-METROPOLITAN TRANSIT AUTHORITY</td>\n",
       "      <td>167411</td>\n",
       "      <td>0</td>\n",
       "      <td>400184</td>\n",
       "      <td></td>\n",
       "      <td>567595.43</td>\n",
       "      <td>567595.43</td>\n",
       "      <td>2011</td>\n",
       "      <td></td>\n",
       "      <td>San Francisco</td>\n",
       "      <td></td>\n",
       "    </tr>\n",
       "    <tr>\n",
       "      <th>1</th>\n",
       "      <td>2</td>\n",
       "      <td>GARY JIMENEZ</td>\n",
       "      <td>CAPTAIN III (POLICE DEPARTMENT)</td>\n",
       "      <td>155966</td>\n",
       "      <td>245132</td>\n",
       "      <td>137811</td>\n",
       "      <td></td>\n",
       "      <td>538909.28</td>\n",
       "      <td>538909.28</td>\n",
       "      <td>2011</td>\n",
       "      <td></td>\n",
       "      <td>San Francisco</td>\n",
       "      <td></td>\n",
       "    </tr>\n",
       "    <tr>\n",
       "      <th>2</th>\n",
       "      <td>3</td>\n",
       "      <td>ALBERT PARDINI</td>\n",
       "      <td>CAPTAIN III (POLICE DEPARTMENT)</td>\n",
       "      <td>212739</td>\n",
       "      <td>106088</td>\n",
       "      <td>16452.6</td>\n",
       "      <td></td>\n",
       "      <td>335279.91</td>\n",
       "      <td>335279.91</td>\n",
       "      <td>2011</td>\n",
       "      <td></td>\n",
       "      <td>San Francisco</td>\n",
       "      <td></td>\n",
       "    </tr>\n",
       "    <tr>\n",
       "      <th>3</th>\n",
       "      <td>4</td>\n",
       "      <td>CHRISTOPHER CHONG</td>\n",
       "      <td>WIRE ROPE CABLE MAINTENANCE MECHANIC</td>\n",
       "      <td>77916</td>\n",
       "      <td>56120.7</td>\n",
       "      <td>198307</td>\n",
       "      <td></td>\n",
       "      <td>332343.61</td>\n",
       "      <td>332343.61</td>\n",
       "      <td>2011</td>\n",
       "      <td></td>\n",
       "      <td>San Francisco</td>\n",
       "      <td></td>\n",
       "    </tr>\n",
       "    <tr>\n",
       "      <th>4</th>\n",
       "      <td>5</td>\n",
       "      <td>PATRICK GARDNER</td>\n",
       "      <td>DEPUTY CHIEF OF DEPARTMENT,(FIRE DEPARTMENT)</td>\n",
       "      <td>134402</td>\n",
       "      <td>9737</td>\n",
       "      <td>182235</td>\n",
       "      <td></td>\n",
       "      <td>326373.19</td>\n",
       "      <td>326373.19</td>\n",
       "      <td>2011</td>\n",
       "      <td></td>\n",
       "      <td>San Francisco</td>\n",
       "      <td></td>\n",
       "    </tr>\n",
       "    <tr>\n",
       "      <th>...</th>\n",
       "      <td>...</td>\n",
       "      <td>...</td>\n",
       "      <td>...</td>\n",
       "      <td>...</td>\n",
       "      <td>...</td>\n",
       "      <td>...</td>\n",
       "      <td>...</td>\n",
       "      <td>...</td>\n",
       "      <td>...</td>\n",
       "      <td>...</td>\n",
       "      <td>...</td>\n",
       "      <td>...</td>\n",
       "      <td>...</td>\n",
       "    </tr>\n",
       "    <tr>\n",
       "      <th>148649</th>\n",
       "      <td>148650</td>\n",
       "      <td>Roy I Tillery</td>\n",
       "      <td>Custodian</td>\n",
       "      <td>0</td>\n",
       "      <td>0</td>\n",
       "      <td>0</td>\n",
       "      <td>0</td>\n",
       "      <td>0.00</td>\n",
       "      <td>0.00</td>\n",
       "      <td>2014</td>\n",
       "      <td></td>\n",
       "      <td>San Francisco</td>\n",
       "      <td>PT</td>\n",
       "    </tr>\n",
       "    <tr>\n",
       "      <th>148650</th>\n",
       "      <td>148651</td>\n",
       "      <td>Not provided</td>\n",
       "      <td>Not provided</td>\n",
       "      <td>Not Provided</td>\n",
       "      <td>Not Provided</td>\n",
       "      <td>Not Provided</td>\n",
       "      <td>Not Provided</td>\n",
       "      <td>0.00</td>\n",
       "      <td>0.00</td>\n",
       "      <td>2014</td>\n",
       "      <td></td>\n",
       "      <td>San Francisco</td>\n",
       "      <td></td>\n",
       "    </tr>\n",
       "    <tr>\n",
       "      <th>148651</th>\n",
       "      <td>148652</td>\n",
       "      <td>Not provided</td>\n",
       "      <td>Not provided</td>\n",
       "      <td>Not Provided</td>\n",
       "      <td>Not Provided</td>\n",
       "      <td>Not Provided</td>\n",
       "      <td>Not Provided</td>\n",
       "      <td>0.00</td>\n",
       "      <td>0.00</td>\n",
       "      <td>2014</td>\n",
       "      <td></td>\n",
       "      <td>San Francisco</td>\n",
       "      <td></td>\n",
       "    </tr>\n",
       "    <tr>\n",
       "      <th>148652</th>\n",
       "      <td>148653</td>\n",
       "      <td>Not provided</td>\n",
       "      <td>Not provided</td>\n",
       "      <td>Not Provided</td>\n",
       "      <td>Not Provided</td>\n",
       "      <td>Not Provided</td>\n",
       "      <td>Not Provided</td>\n",
       "      <td>0.00</td>\n",
       "      <td>0.00</td>\n",
       "      <td>2014</td>\n",
       "      <td></td>\n",
       "      <td>San Francisco</td>\n",
       "      <td></td>\n",
       "    </tr>\n",
       "    <tr>\n",
       "      <th>148653</th>\n",
       "      <td>148654</td>\n",
       "      <td>Joe Lopez</td>\n",
       "      <td>Counselor, Log Cabin Ranch</td>\n",
       "      <td>0</td>\n",
       "      <td>0</td>\n",
       "      <td>-618.13</td>\n",
       "      <td>0</td>\n",
       "      <td>-618.13</td>\n",
       "      <td>-618.13</td>\n",
       "      <td>2014</td>\n",
       "      <td></td>\n",
       "      <td>San Francisco</td>\n",
       "      <td>PT</td>\n",
       "    </tr>\n",
       "  </tbody>\n",
       "</table>\n",
       "<p>148654 rows × 13 columns</p>\n",
       "</div>"
      ],
      "text/plain": [
       "            Id       EmployeeName  \\\n",
       "0            1     NATHANIEL FORD   \n",
       "1            2       GARY JIMENEZ   \n",
       "2            3     ALBERT PARDINI   \n",
       "3            4  CHRISTOPHER CHONG   \n",
       "4            5    PATRICK GARDNER   \n",
       "...        ...                ...   \n",
       "148649  148650      Roy I Tillery   \n",
       "148650  148651       Not provided   \n",
       "148651  148652       Not provided   \n",
       "148652  148653       Not provided   \n",
       "148653  148654          Joe Lopez   \n",
       "\n",
       "                                              JobTitle       BasePay  \\\n",
       "0       GENERAL MANAGER-METROPOLITAN TRANSIT AUTHORITY        167411   \n",
       "1                      CAPTAIN III (POLICE DEPARTMENT)        155966   \n",
       "2                      CAPTAIN III (POLICE DEPARTMENT)        212739   \n",
       "3                 WIRE ROPE CABLE MAINTENANCE MECHANIC         77916   \n",
       "4         DEPUTY CHIEF OF DEPARTMENT,(FIRE DEPARTMENT)        134402   \n",
       "...                                                ...           ...   \n",
       "148649                                       Custodian             0   \n",
       "148650                                    Not provided  Not Provided   \n",
       "148651                                    Not provided  Not Provided   \n",
       "148652                                    Not provided  Not Provided   \n",
       "148653                      Counselor, Log Cabin Ranch             0   \n",
       "\n",
       "         OvertimePay      OtherPay      Benefits   TotalPay  TotalPayBenefits  \\\n",
       "0                  0        400184                567595.43         567595.43   \n",
       "1             245132        137811                538909.28         538909.28   \n",
       "2             106088       16452.6                335279.91         335279.91   \n",
       "3            56120.7        198307                332343.61         332343.61   \n",
       "4               9737        182235                326373.19         326373.19   \n",
       "...              ...           ...           ...        ...               ...   \n",
       "148649             0             0             0       0.00              0.00   \n",
       "148650  Not Provided  Not Provided  Not Provided       0.00              0.00   \n",
       "148651  Not Provided  Not Provided  Not Provided       0.00              0.00   \n",
       "148652  Not Provided  Not Provided  Not Provided       0.00              0.00   \n",
       "148653             0       -618.13             0    -618.13           -618.13   \n",
       "\n",
       "        Year Notes         Agency Status  \n",
       "0       2011        San Francisco         \n",
       "1       2011        San Francisco         \n",
       "2       2011        San Francisco         \n",
       "3       2011        San Francisco         \n",
       "4       2011        San Francisco         \n",
       "...      ...   ...            ...    ...  \n",
       "148649  2014        San Francisco     PT  \n",
       "148650  2014        San Francisco         \n",
       "148651  2014        San Francisco         \n",
       "148652  2014        San Francisco         \n",
       "148653  2014        San Francisco     PT  \n",
       "\n",
       "[148654 rows x 13 columns]"
      ]
     },
     "execution_count": 31,
     "metadata": {},
     "output_type": "execute_result"
    }
   ],
   "source": [
    "frame_salaries"
   ]
  },
  {
   "cell_type": "markdown",
   "metadata": {},
   "source": [
    "# Importer des données SAS\n",
    "\n",
    "On peut utiliser `pd.read_sas`"
   ]
  },
  {
   "cell_type": "markdown",
   "metadata": {},
   "source": [
    "**Exercice :**\n",
    "Importez le fichier SAS se trouvant dans le répertoire `./data/`"
   ]
  },
  {
   "cell_type": "code",
   "execution_count": 32,
   "metadata": {},
   "outputs": [],
   "source": [
    "ecoles = pd.read_sas(\"./data/bce_uai.sas7bdat\",encoding = \"iso-8859-1\")"
   ]
  },
  {
   "cell_type": "code",
   "execution_count": 33,
   "metadata": {},
   "outputs": [
    {
     "data": {
      "text/plain": [
       "(67441, 15)"
      ]
     },
     "execution_count": 33,
     "metadata": {},
     "output_type": "execute_result"
    }
   ],
   "source": [
    "ecoles.shape"
   ]
  },
  {
   "cell_type": "code",
   "execution_count": 34,
   "metadata": {},
   "outputs": [
    {
     "data": {
      "text/html": [
       "<div>\n",
       "<style scoped>\n",
       "    .dataframe tbody tr th:only-of-type {\n",
       "        vertical-align: middle;\n",
       "    }\n",
       "\n",
       "    .dataframe tbody tr th {\n",
       "        vertical-align: top;\n",
       "    }\n",
       "\n",
       "    .dataframe thead th {\n",
       "        text-align: right;\n",
       "    }\n",
       "</style>\n",
       "<table border=\"1\" class=\"dataframe\">\n",
       "  <thead>\n",
       "    <tr style=\"text-align: right;\">\n",
       "      <th></th>\n",
       "      <th>CONTRAT_ETABLISSEMENT</th>\n",
       "      <th>CATEGORIE_JURIDIQUE</th>\n",
       "      <th>ETAT_ETABLISSEMENT</th>\n",
       "      <th>MINISTERE_TUTELLE</th>\n",
       "      <th>NUMERO_UAI</th>\n",
       "      <th>SIGLE_UAI</th>\n",
       "      <th>SECTEUR_PUBLIC_PRIVE</th>\n",
       "      <th>NATURE_UAI</th>\n",
       "      <th>COMMUNE</th>\n",
       "      <th>DATE_OUVERTURE</th>\n",
       "      <th>DATE_FERMETURE</th>\n",
       "      <th>DENOMINATION_PRINCIPALE_UAI</th>\n",
       "      <th>PATRONYME_UAI</th>\n",
       "      <th>NIVEAU_UAI</th>\n",
       "      <th>SECTEUR_CONTRAT</th>\n",
       "    </tr>\n",
       "  </thead>\n",
       "  <tbody>\n",
       "    <tr>\n",
       "      <th>0</th>\n",
       "      <td>99</td>\n",
       "      <td>131</td>\n",
       "      <td>1</td>\n",
       "      <td>06</td>\n",
       "      <td>0010670Y</td>\n",
       "      <td>E.P.PU</td>\n",
       "      <td>PU</td>\n",
       "      <td>151</td>\n",
       "      <td>01001</td>\n",
       "      <td>1966-09-30</td>\n",
       "      <td>NaT</td>\n",
       "      <td>ECOLE PRIMAIRE PUBLIQUE</td>\n",
       "      <td>NaN</td>\n",
       "      <td>1</td>\n",
       "      <td>01</td>\n",
       "    </tr>\n",
       "    <tr>\n",
       "      <th>1</th>\n",
       "      <td>30</td>\n",
       "      <td>999</td>\n",
       "      <td>1</td>\n",
       "      <td>06</td>\n",
       "      <td>0010093W</td>\n",
       "      <td>E.P.PR</td>\n",
       "      <td>PR</td>\n",
       "      <td>151</td>\n",
       "      <td>01004</td>\n",
       "      <td>1971-03-12</td>\n",
       "      <td>NaT</td>\n",
       "      <td>ECOLE PRIMAIRE PRIVEE</td>\n",
       "      <td>STE MARIE</td>\n",
       "      <td>1</td>\n",
       "      <td>03</td>\n",
       "    </tr>\n",
       "    <tr>\n",
       "      <th>2</th>\n",
       "      <td>99</td>\n",
       "      <td>131</td>\n",
       "      <td>1</td>\n",
       "      <td>06</td>\n",
       "      <td>0011207G</td>\n",
       "      <td>E.E.PU</td>\n",
       "      <td>PU</td>\n",
       "      <td>151</td>\n",
       "      <td>01004</td>\n",
       "      <td>1984-09-01</td>\n",
       "      <td>NaT</td>\n",
       "      <td>ECOLE ELEMENTAIRE PUBLIQUE</td>\n",
       "      <td>JULES FERRY</td>\n",
       "      <td>1</td>\n",
       "      <td>01</td>\n",
       "    </tr>\n",
       "    <tr>\n",
       "      <th>3</th>\n",
       "      <td>99</td>\n",
       "      <td>200</td>\n",
       "      <td>1</td>\n",
       "      <td>06</td>\n",
       "      <td>0010001W</td>\n",
       "      <td>LP LYC METIER</td>\n",
       "      <td>PU</td>\n",
       "      <td>320</td>\n",
       "      <td>01004</td>\n",
       "      <td>1965-05-01</td>\n",
       "      <td>NaT</td>\n",
       "      <td>LP LYCEE DES METIERS</td>\n",
       "      <td>ALEXANDRE BERARD</td>\n",
       "      <td>1</td>\n",
       "      <td>01</td>\n",
       "    </tr>\n",
       "    <tr>\n",
       "      <th>4</th>\n",
       "      <td>99</td>\n",
       "      <td>131</td>\n",
       "      <td>1</td>\n",
       "      <td>06</td>\n",
       "      <td>0010445D</td>\n",
       "      <td>E.M.PU</td>\n",
       "      <td>PU</td>\n",
       "      <td>101</td>\n",
       "      <td>01004</td>\n",
       "      <td>1966-10-07</td>\n",
       "      <td>NaT</td>\n",
       "      <td>ECOLE MATERNELLE PUBLIQUE</td>\n",
       "      <td>JEAN JAURES</td>\n",
       "      <td>1</td>\n",
       "      <td>01</td>\n",
       "    </tr>\n",
       "  </tbody>\n",
       "</table>\n",
       "</div>"
      ],
      "text/plain": [
       "  CONTRAT_ETABLISSEMENT CATEGORIE_JURIDIQUE ETAT_ETABLISSEMENT  \\\n",
       "0                    99                 131                  1   \n",
       "1                    30                 999                  1   \n",
       "2                    99                 131                  1   \n",
       "3                    99                 200                  1   \n",
       "4                    99                 131                  1   \n",
       "\n",
       "  MINISTERE_TUTELLE NUMERO_UAI      SIGLE_UAI SECTEUR_PUBLIC_PRIVE NATURE_UAI  \\\n",
       "0                06   0010670Y         E.P.PU                   PU        151   \n",
       "1                06   0010093W         E.P.PR                   PR        151   \n",
       "2                06   0011207G         E.E.PU                   PU        151   \n",
       "3                06   0010001W  LP LYC METIER                   PU        320   \n",
       "4                06   0010445D         E.M.PU                   PU        101   \n",
       "\n",
       "  COMMUNE DATE_OUVERTURE DATE_FERMETURE DENOMINATION_PRINCIPALE_UAI  \\\n",
       "0   01001     1966-09-30            NaT     ECOLE PRIMAIRE PUBLIQUE   \n",
       "1   01004     1971-03-12            NaT       ECOLE PRIMAIRE PRIVEE   \n",
       "2   01004     1984-09-01            NaT  ECOLE ELEMENTAIRE PUBLIQUE   \n",
       "3   01004     1965-05-01            NaT        LP LYCEE DES METIERS   \n",
       "4   01004     1966-10-07            NaT   ECOLE MATERNELLE PUBLIQUE   \n",
       "\n",
       "      PATRONYME_UAI NIVEAU_UAI SECTEUR_CONTRAT  \n",
       "0               NaN          1              01  \n",
       "1         STE MARIE          1              03  \n",
       "2       JULES FERRY          1              01  \n",
       "3  ALEXANDRE BERARD          1              01  \n",
       "4       JEAN JAURES          1              01  "
      ]
     },
     "execution_count": 34,
     "metadata": {},
     "output_type": "execute_result"
    }
   ],
   "source": [
    "ecoles.head()"
   ]
  },
  {
   "cell_type": "code",
   "execution_count": 35,
   "metadata": {},
   "outputs": [
    {
     "data": {
      "text/plain": [
       "0        False\n",
       "1         True\n",
       "2        False\n",
       "3        False\n",
       "4        False\n",
       "         ...  \n",
       "67436     True\n",
       "67437     True\n",
       "67438     True\n",
       "67439    False\n",
       "67440     True\n",
       "Name: SECTEUR_PUBLIC_PRIVE, Length: 67441, dtype: bool"
      ]
     },
     "execution_count": 35,
     "metadata": {},
     "output_type": "execute_result"
    }
   ],
   "source": [
    "ecoles[\"SECTEUR_PUBLIC_PRIVE\"]==\"PR\""
   ]
  },
  {
   "cell_type": "code",
   "execution_count": 36,
   "metadata": {},
   "outputs": [
    {
     "data": {
      "text/html": [
       "<div>\n",
       "<style scoped>\n",
       "    .dataframe tbody tr th:only-of-type {\n",
       "        vertical-align: middle;\n",
       "    }\n",
       "\n",
       "    .dataframe tbody tr th {\n",
       "        vertical-align: top;\n",
       "    }\n",
       "\n",
       "    .dataframe thead th {\n",
       "        text-align: right;\n",
       "    }\n",
       "</style>\n",
       "<table border=\"1\" class=\"dataframe\">\n",
       "  <thead>\n",
       "    <tr style=\"text-align: right;\">\n",
       "      <th></th>\n",
       "      <th>CONTRAT_ETABLISSEMENT</th>\n",
       "      <th>CATEGORIE_JURIDIQUE</th>\n",
       "      <th>ETAT_ETABLISSEMENT</th>\n",
       "      <th>MINISTERE_TUTELLE</th>\n",
       "      <th>NUMERO_UAI</th>\n",
       "      <th>SIGLE_UAI</th>\n",
       "      <th>SECTEUR_PUBLIC_PRIVE</th>\n",
       "      <th>NATURE_UAI</th>\n",
       "      <th>COMMUNE</th>\n",
       "      <th>DATE_OUVERTURE</th>\n",
       "      <th>DATE_FERMETURE</th>\n",
       "      <th>DENOMINATION_PRINCIPALE_UAI</th>\n",
       "      <th>PATRONYME_UAI</th>\n",
       "      <th>NIVEAU_UAI</th>\n",
       "      <th>SECTEUR_CONTRAT</th>\n",
       "    </tr>\n",
       "  </thead>\n",
       "  <tbody>\n",
       "    <tr>\n",
       "      <th>0</th>\n",
       "      <td>99</td>\n",
       "      <td>131</td>\n",
       "      <td>1</td>\n",
       "      <td>06</td>\n",
       "      <td>0010670Y</td>\n",
       "      <td>E.P.PU</td>\n",
       "      <td>PU</td>\n",
       "      <td>151</td>\n",
       "      <td>01001</td>\n",
       "      <td>1966-09-30</td>\n",
       "      <td>NaT</td>\n",
       "      <td>ECOLE PRIMAIRE PUBLIQUE</td>\n",
       "      <td>NaN</td>\n",
       "      <td>1</td>\n",
       "      <td>01</td>\n",
       "    </tr>\n",
       "    <tr>\n",
       "      <th>2</th>\n",
       "      <td>99</td>\n",
       "      <td>131</td>\n",
       "      <td>1</td>\n",
       "      <td>06</td>\n",
       "      <td>0011207G</td>\n",
       "      <td>E.E.PU</td>\n",
       "      <td>PU</td>\n",
       "      <td>151</td>\n",
       "      <td>01004</td>\n",
       "      <td>1984-09-01</td>\n",
       "      <td>NaT</td>\n",
       "      <td>ECOLE ELEMENTAIRE PUBLIQUE</td>\n",
       "      <td>JULES FERRY</td>\n",
       "      <td>1</td>\n",
       "      <td>01</td>\n",
       "    </tr>\n",
       "    <tr>\n",
       "      <th>3</th>\n",
       "      <td>99</td>\n",
       "      <td>200</td>\n",
       "      <td>1</td>\n",
       "      <td>06</td>\n",
       "      <td>0010001W</td>\n",
       "      <td>LP LYC METIER</td>\n",
       "      <td>PU</td>\n",
       "      <td>320</td>\n",
       "      <td>01004</td>\n",
       "      <td>1965-05-01</td>\n",
       "      <td>NaT</td>\n",
       "      <td>LP LYCEE DES METIERS</td>\n",
       "      <td>ALEXANDRE BERARD</td>\n",
       "      <td>1</td>\n",
       "      <td>01</td>\n",
       "    </tr>\n",
       "    <tr>\n",
       "      <th>4</th>\n",
       "      <td>99</td>\n",
       "      <td>131</td>\n",
       "      <td>1</td>\n",
       "      <td>06</td>\n",
       "      <td>0010445D</td>\n",
       "      <td>E.M.PU</td>\n",
       "      <td>PU</td>\n",
       "      <td>101</td>\n",
       "      <td>01004</td>\n",
       "      <td>1966-10-07</td>\n",
       "      <td>NaT</td>\n",
       "      <td>ECOLE MATERNELLE PUBLIQUE</td>\n",
       "      <td>JEAN JAURES</td>\n",
       "      <td>1</td>\n",
       "      <td>01</td>\n",
       "    </tr>\n",
       "    <tr>\n",
       "      <th>5</th>\n",
       "      <td>99</td>\n",
       "      <td>131</td>\n",
       "      <td>1</td>\n",
       "      <td>06</td>\n",
       "      <td>0011265V</td>\n",
       "      <td>E.E.PU</td>\n",
       "      <td>PU</td>\n",
       "      <td>151</td>\n",
       "      <td>01004</td>\n",
       "      <td>1989-09-01</td>\n",
       "      <td>NaT</td>\n",
       "      <td>ECOLE ELEMENTAIRE PUBLIQUE</td>\n",
       "      <td>JEAN JAURES</td>\n",
       "      <td>1</td>\n",
       "      <td>01</td>\n",
       "    </tr>\n",
       "    <tr>\n",
       "      <th>...</th>\n",
       "      <td>...</td>\n",
       "      <td>...</td>\n",
       "      <td>...</td>\n",
       "      <td>...</td>\n",
       "      <td>...</td>\n",
       "      <td>...</td>\n",
       "      <td>...</td>\n",
       "      <td>...</td>\n",
       "      <td>...</td>\n",
       "      <td>...</td>\n",
       "      <td>...</td>\n",
       "      <td>...</td>\n",
       "      <td>...</td>\n",
       "      <td>...</td>\n",
       "      <td>...</td>\n",
       "    </tr>\n",
       "    <tr>\n",
       "      <th>67395</th>\n",
       "      <td>99</td>\n",
       "      <td>999</td>\n",
       "      <td>1</td>\n",
       "      <td>01</td>\n",
       "      <td>4040069E</td>\n",
       "      <td>LFE</td>\n",
       "      <td>PU</td>\n",
       "      <td>304</td>\n",
       "      <td>99404</td>\n",
       "      <td>2015-06-16</td>\n",
       "      <td>NaT</td>\n",
       "      <td>LYCEE FRANCAIS</td>\n",
       "      <td>NaN</td>\n",
       "      <td>1</td>\n",
       "      <td>01</td>\n",
       "    </tr>\n",
       "    <tr>\n",
       "      <th>67410</th>\n",
       "      <td>99</td>\n",
       "      <td>999</td>\n",
       "      <td>1</td>\n",
       "      <td>01</td>\n",
       "      <td>4150002X</td>\n",
       "      <td>LFE</td>\n",
       "      <td>PU</td>\n",
       "      <td>304</td>\n",
       "      <td>99415</td>\n",
       "      <td>1983-01-01</td>\n",
       "      <td>NaT</td>\n",
       "      <td>LYCEE FRANCAIS</td>\n",
       "      <td>FR ARGENTIN J.MERMOZ(M,E,C,L)</td>\n",
       "      <td>1</td>\n",
       "      <td>01</td>\n",
       "    </tr>\n",
       "    <tr>\n",
       "      <th>67431</th>\n",
       "      <td>99</td>\n",
       "      <td>999</td>\n",
       "      <td>1</td>\n",
       "      <td>01</td>\n",
       "      <td>4210003R</td>\n",
       "      <td>E.P.F.</td>\n",
       "      <td>PU</td>\n",
       "      <td>154</td>\n",
       "      <td>99421</td>\n",
       "      <td>2006-09-01</td>\n",
       "      <td>NaT</td>\n",
       "      <td>ECOLE PRIMAIRE FRANCAISE</td>\n",
       "      <td>COLLEGE JULES VERNE ( M, E)</td>\n",
       "      <td>1</td>\n",
       "      <td>01</td>\n",
       "    </tr>\n",
       "    <tr>\n",
       "      <th>67434</th>\n",
       "      <td>99</td>\n",
       "      <td>999</td>\n",
       "      <td>1</td>\n",
       "      <td>01</td>\n",
       "      <td>4240001X</td>\n",
       "      <td>LFE</td>\n",
       "      <td>PU</td>\n",
       "      <td>304</td>\n",
       "      <td>99424</td>\n",
       "      <td>1976-04-05</td>\n",
       "      <td>NaT</td>\n",
       "      <td>LYCEE FRANCAIS</td>\n",
       "      <td>COLEGIO FRANCIA (M,E,C,L)</td>\n",
       "      <td>1</td>\n",
       "      <td>01</td>\n",
       "    </tr>\n",
       "    <tr>\n",
       "      <th>67439</th>\n",
       "      <td>99</td>\n",
       "      <td>999</td>\n",
       "      <td>1</td>\n",
       "      <td>01</td>\n",
       "      <td>5010007K</td>\n",
       "      <td>CFE</td>\n",
       "      <td>PU</td>\n",
       "      <td>304</td>\n",
       "      <td>99501</td>\n",
       "      <td>2016-06-28</td>\n",
       "      <td>NaT</td>\n",
       "      <td>COLLEGE FRANCAIS</td>\n",
       "      <td>AUBURN HIGH SCHOOL (C) SECTION</td>\n",
       "      <td>1</td>\n",
       "      <td>01</td>\n",
       "    </tr>\n",
       "  </tbody>\n",
       "</table>\n",
       "<p>56786 rows × 15 columns</p>\n",
       "</div>"
      ],
      "text/plain": [
       "      CONTRAT_ETABLISSEMENT CATEGORIE_JURIDIQUE ETAT_ETABLISSEMENT  \\\n",
       "0                        99                 131                  1   \n",
       "2                        99                 131                  1   \n",
       "3                        99                 200                  1   \n",
       "4                        99                 131                  1   \n",
       "5                        99                 131                  1   \n",
       "...                     ...                 ...                ...   \n",
       "67395                    99                 999                  1   \n",
       "67410                    99                 999                  1   \n",
       "67431                    99                 999                  1   \n",
       "67434                    99                 999                  1   \n",
       "67439                    99                 999                  1   \n",
       "\n",
       "      MINISTERE_TUTELLE NUMERO_UAI      SIGLE_UAI SECTEUR_PUBLIC_PRIVE  \\\n",
       "0                    06   0010670Y         E.P.PU                   PU   \n",
       "2                    06   0011207G         E.E.PU                   PU   \n",
       "3                    06   0010001W  LP LYC METIER                   PU   \n",
       "4                    06   0010445D         E.M.PU                   PU   \n",
       "5                    06   0011265V         E.E.PU                   PU   \n",
       "...                 ...        ...            ...                  ...   \n",
       "67395                01   4040069E            LFE                   PU   \n",
       "67410                01   4150002X            LFE                   PU   \n",
       "67431                01   4210003R         E.P.F.                   PU   \n",
       "67434                01   4240001X            LFE                   PU   \n",
       "67439                01   5010007K            CFE                   PU   \n",
       "\n",
       "      NATURE_UAI COMMUNE DATE_OUVERTURE DATE_FERMETURE  \\\n",
       "0            151   01001     1966-09-30            NaT   \n",
       "2            151   01004     1984-09-01            NaT   \n",
       "3            320   01004     1965-05-01            NaT   \n",
       "4            101   01004     1966-10-07            NaT   \n",
       "5            151   01004     1989-09-01            NaT   \n",
       "...          ...     ...            ...            ...   \n",
       "67395        304   99404     2015-06-16            NaT   \n",
       "67410        304   99415     1983-01-01            NaT   \n",
       "67431        154   99421     2006-09-01            NaT   \n",
       "67434        304   99424     1976-04-05            NaT   \n",
       "67439        304   99501     2016-06-28            NaT   \n",
       "\n",
       "      DENOMINATION_PRINCIPALE_UAI                   PATRONYME_UAI NIVEAU_UAI  \\\n",
       "0         ECOLE PRIMAIRE PUBLIQUE                             NaN          1   \n",
       "2      ECOLE ELEMENTAIRE PUBLIQUE                     JULES FERRY          1   \n",
       "3            LP LYCEE DES METIERS                ALEXANDRE BERARD          1   \n",
       "4       ECOLE MATERNELLE PUBLIQUE                     JEAN JAURES          1   \n",
       "5      ECOLE ELEMENTAIRE PUBLIQUE                     JEAN JAURES          1   \n",
       "...                           ...                             ...        ...   \n",
       "67395              LYCEE FRANCAIS                             NaN          1   \n",
       "67410              LYCEE FRANCAIS   FR ARGENTIN J.MERMOZ(M,E,C,L)          1   \n",
       "67431    ECOLE PRIMAIRE FRANCAISE     COLLEGE JULES VERNE ( M, E)          1   \n",
       "67434              LYCEE FRANCAIS       COLEGIO FRANCIA (M,E,C,L)          1   \n",
       "67439            COLLEGE FRANCAIS  AUBURN HIGH SCHOOL (C) SECTION          1   \n",
       "\n",
       "      SECTEUR_CONTRAT  \n",
       "0                  01  \n",
       "2                  01  \n",
       "3                  01  \n",
       "4                  01  \n",
       "5                  01  \n",
       "...               ...  \n",
       "67395              01  \n",
       "67410              01  \n",
       "67431              01  \n",
       "67434              01  \n",
       "67439              01  \n",
       "\n",
       "[56786 rows x 15 columns]"
      ]
     },
     "execution_count": 36,
     "metadata": {},
     "output_type": "execute_result"
    }
   ],
   "source": [
    "# on filtre et on ne garde que le public\n",
    "ecoles[ecoles[\"SECTEUR_PUBLIC_PRIVE\"]==\"PU\"]"
   ]
  },
  {
   "cell_type": "code",
   "execution_count": 37,
   "metadata": {},
   "outputs": [
    {
     "data": {
      "text/plain": [
       "JULES FERRY        499\n",
       "JACQUES PREVERT    369\n",
       "JEAN MOULIN        362\n",
       "JEAN JAURES        319\n",
       "VICTOR HUGO        286\n",
       "                  ... \n",
       "JACQUES TOUTAIN      1\n",
       "MIGNET               1\n",
       "KAWENI 2             1\n",
       "LE DIAMANT           1\n",
       "LA TOUR BLANCHE      1\n",
       "Name: PATRONYME_UAI, Length: 23081, dtype: int64"
      ]
     },
     "execution_count": 37,
     "metadata": {},
     "output_type": "execute_result"
    }
   ],
   "source": [
    "ecoles[ecoles[\"SECTEUR_PUBLIC_PRIVE\"]==\"PU\"] [\"PATRONYME_UAI\"].value_counts()"
   ]
  },
  {
   "cell_type": "markdown",
   "metadata": {
    "slideshow": {
     "slide_type": "slide"
    }
   },
   "source": [
    "# Les tris avec Pandas \n",
    "\n",
    "Pour effectuer des tris, on utilise :\n",
    "- `.sort_index()` pour le tri des index\n",
    "- `.sort_values()` pour le tri des données\n",
    "- `.rank()` affiche le rang des observations\n",
    "\n",
    "Il peut y avoir plusieurs tris dans la même opération. Dans ce cas, on utilise des listes de colonnes :\n",
    "```python\n",
    "frame.sort_values([\"col_1\",\"col_2\"])\n",
    "```"
   ]
  },
  {
   "cell_type": "markdown",
   "metadata": {
    "slideshow": {
     "slide_type": "subslide"
    }
   },
   "source": [
    "**Exercice :** \n",
    "    \n",
    "Triez les données sur les salaires en se basant sur le BasePay et le JobTitle"
   ]
  },
  {
   "cell_type": "code",
   "execution_count": 38,
   "metadata": {},
   "outputs": [
    {
     "data": {
      "text/html": [
       "<div>\n",
       "<style scoped>\n",
       "    .dataframe tbody tr th:only-of-type {\n",
       "        vertical-align: middle;\n",
       "    }\n",
       "\n",
       "    .dataframe tbody tr th {\n",
       "        vertical-align: top;\n",
       "    }\n",
       "\n",
       "    .dataframe thead th {\n",
       "        text-align: right;\n",
       "    }\n",
       "</style>\n",
       "<table border=\"1\" class=\"dataframe\">\n",
       "  <thead>\n",
       "    <tr style=\"text-align: right;\">\n",
       "      <th></th>\n",
       "      <th>Id</th>\n",
       "      <th>EmployeeName</th>\n",
       "      <th>JobTitle</th>\n",
       "      <th>BasePay</th>\n",
       "      <th>OvertimePay</th>\n",
       "      <th>OtherPay</th>\n",
       "      <th>Benefits</th>\n",
       "      <th>TotalPay</th>\n",
       "      <th>TotalPayBenefits</th>\n",
       "      <th>Year</th>\n",
       "      <th>Notes</th>\n",
       "      <th>Agency</th>\n",
       "      <th>Status</th>\n",
       "    </tr>\n",
       "  </thead>\n",
       "  <tbody>\n",
       "    <tr>\n",
       "      <th>20765</th>\n",
       "      <td>20766</td>\n",
       "      <td>NAPOLEON VIRAY</td>\n",
       "      <td>ACCOUNT CLERK</td>\n",
       "      <td>60838.2</td>\n",
       "      <td>0</td>\n",
       "      <td>0</td>\n",
       "      <td></td>\n",
       "      <td>60838.20</td>\n",
       "      <td>60838.20</td>\n",
       "      <td>2011</td>\n",
       "      <td></td>\n",
       "      <td>San Francisco</td>\n",
       "      <td></td>\n",
       "    </tr>\n",
       "    <tr>\n",
       "      <th>21638</th>\n",
       "      <td>21639</td>\n",
       "      <td>SUSAN CHANG</td>\n",
       "      <td>ACCOUNT CLERK</td>\n",
       "      <td>51306.3</td>\n",
       "      <td>5406.34</td>\n",
       "      <td>1814.58</td>\n",
       "      <td></td>\n",
       "      <td>58527.20</td>\n",
       "      <td>58527.20</td>\n",
       "      <td>2011</td>\n",
       "      <td></td>\n",
       "      <td>San Francisco</td>\n",
       "      <td></td>\n",
       "    </tr>\n",
       "    <tr>\n",
       "      <th>22972</th>\n",
       "      <td>22973</td>\n",
       "      <td>OLIVIA BOUDREAUX</td>\n",
       "      <td>ACCOUNT CLERK</td>\n",
       "      <td>49778.2</td>\n",
       "      <td>3811.68</td>\n",
       "      <td>1084.76</td>\n",
       "      <td></td>\n",
       "      <td>54674.59</td>\n",
       "      <td>54674.59</td>\n",
       "      <td>2011</td>\n",
       "      <td></td>\n",
       "      <td>San Francisco</td>\n",
       "      <td></td>\n",
       "    </tr>\n",
       "    <tr>\n",
       "      <th>24573</th>\n",
       "      <td>24574</td>\n",
       "      <td>GLADYS PALACIOS</td>\n",
       "      <td>ACCOUNT CLERK</td>\n",
       "      <td>49777.9</td>\n",
       "      <td>0</td>\n",
       "      <td>624</td>\n",
       "      <td></td>\n",
       "      <td>50401.92</td>\n",
       "      <td>50401.92</td>\n",
       "      <td>2011</td>\n",
       "      <td></td>\n",
       "      <td>San Francisco</td>\n",
       "      <td></td>\n",
       "    </tr>\n",
       "    <tr>\n",
       "      <th>24574</th>\n",
       "      <td>24575</td>\n",
       "      <td>JOCELYN VERGEL DE DIOS</td>\n",
       "      <td>ACCOUNT CLERK</td>\n",
       "      <td>49777.9</td>\n",
       "      <td>0</td>\n",
       "      <td>624.01</td>\n",
       "      <td></td>\n",
       "      <td>50401.87</td>\n",
       "      <td>50401.87</td>\n",
       "      <td>2011</td>\n",
       "      <td></td>\n",
       "      <td>San Francisco</td>\n",
       "      <td></td>\n",
       "    </tr>\n",
       "    <tr>\n",
       "      <th>...</th>\n",
       "      <td>...</td>\n",
       "      <td>...</td>\n",
       "      <td>...</td>\n",
       "      <td>...</td>\n",
       "      <td>...</td>\n",
       "      <td>...</td>\n",
       "      <td>...</td>\n",
       "      <td>...</td>\n",
       "      <td>...</td>\n",
       "      <td>...</td>\n",
       "      <td>...</td>\n",
       "      <td>...</td>\n",
       "      <td>...</td>\n",
       "    </tr>\n",
       "    <tr>\n",
       "      <th>58842</th>\n",
       "      <td>58843</td>\n",
       "      <td>Mario Yedidia</td>\n",
       "      <td>Youth Comm Advisor</td>\n",
       "      <td>57544.7</td>\n",
       "      <td>0</td>\n",
       "      <td>0</td>\n",
       "      <td>28229.7</td>\n",
       "      <td>57544.73</td>\n",
       "      <td>85774.39</td>\n",
       "      <td>2012</td>\n",
       "      <td></td>\n",
       "      <td>San Francisco</td>\n",
       "      <td></td>\n",
       "    </tr>\n",
       "    <tr>\n",
       "      <th>98074</th>\n",
       "      <td>98075</td>\n",
       "      <td>Phimy  Truong</td>\n",
       "      <td>Youth Comm Advisor</td>\n",
       "      <td>52433.9</td>\n",
       "      <td>0</td>\n",
       "      <td>0</td>\n",
       "      <td>25297.5</td>\n",
       "      <td>52433.88</td>\n",
       "      <td>77731.38</td>\n",
       "      <td>2013</td>\n",
       "      <td></td>\n",
       "      <td>San Francisco</td>\n",
       "      <td></td>\n",
       "    </tr>\n",
       "    <tr>\n",
       "      <th>138458</th>\n",
       "      <td>138459</td>\n",
       "      <td>Phimy Truong</td>\n",
       "      <td>Youth Comm Advisor</td>\n",
       "      <td>32417.4</td>\n",
       "      <td>0</td>\n",
       "      <td>4048.49</td>\n",
       "      <td>15545.3</td>\n",
       "      <td>36465.91</td>\n",
       "      <td>52011.19</td>\n",
       "      <td>2014</td>\n",
       "      <td></td>\n",
       "      <td>San Francisco</td>\n",
       "      <td>PT</td>\n",
       "    </tr>\n",
       "    <tr>\n",
       "      <th>103333</th>\n",
       "      <td>103334</td>\n",
       "      <td>Mario R Yedidia</td>\n",
       "      <td>Youth Comm Advisor</td>\n",
       "      <td>13915.8</td>\n",
       "      <td>0</td>\n",
       "      <td>5296.91</td>\n",
       "      <td>5744.53</td>\n",
       "      <td>19212.71</td>\n",
       "      <td>24957.24</td>\n",
       "      <td>2013</td>\n",
       "      <td></td>\n",
       "      <td>San Francisco</td>\n",
       "      <td></td>\n",
       "    </tr>\n",
       "    <tr>\n",
       "      <th>18778</th>\n",
       "      <td>18779</td>\n",
       "      <td>MYRON SULAK</td>\n",
       "      <td>ZOO CURATOR</td>\n",
       "      <td>43148</td>\n",
       "      <td>0</td>\n",
       "      <td>23538.6</td>\n",
       "      <td></td>\n",
       "      <td>66686.56</td>\n",
       "      <td>66686.56</td>\n",
       "      <td>2011</td>\n",
       "      <td></td>\n",
       "      <td>San Francisco</td>\n",
       "      <td></td>\n",
       "    </tr>\n",
       "  </tbody>\n",
       "</table>\n",
       "<p>148654 rows × 13 columns</p>\n",
       "</div>"
      ],
      "text/plain": [
       "            Id            EmployeeName            JobTitle  BasePay  \\\n",
       "20765    20766          NAPOLEON VIRAY       ACCOUNT CLERK  60838.2   \n",
       "21638    21639             SUSAN CHANG       ACCOUNT CLERK  51306.3   \n",
       "22972    22973        OLIVIA BOUDREAUX       ACCOUNT CLERK  49778.2   \n",
       "24573    24574         GLADYS PALACIOS       ACCOUNT CLERK  49777.9   \n",
       "24574    24575  JOCELYN VERGEL DE DIOS       ACCOUNT CLERK  49777.9   \n",
       "...        ...                     ...                 ...      ...   \n",
       "58842    58843           Mario Yedidia  Youth Comm Advisor  57544.7   \n",
       "98074    98075           Phimy  Truong  Youth Comm Advisor  52433.9   \n",
       "138458  138459            Phimy Truong  Youth Comm Advisor  32417.4   \n",
       "103333  103334         Mario R Yedidia  Youth Comm Advisor  13915.8   \n",
       "18778    18779             MYRON SULAK         ZOO CURATOR    43148   \n",
       "\n",
       "       OvertimePay OtherPay Benefits  TotalPay  TotalPayBenefits  Year Notes  \\\n",
       "20765            0        0           60838.20          60838.20  2011         \n",
       "21638      5406.34  1814.58           58527.20          58527.20  2011         \n",
       "22972      3811.68  1084.76           54674.59          54674.59  2011         \n",
       "24573            0      624           50401.92          50401.92  2011         \n",
       "24574            0   624.01           50401.87          50401.87  2011         \n",
       "...            ...      ...      ...       ...               ...   ...   ...   \n",
       "58842            0        0  28229.7  57544.73          85774.39  2012         \n",
       "98074            0        0  25297.5  52433.88          77731.38  2013         \n",
       "138458           0  4048.49  15545.3  36465.91          52011.19  2014         \n",
       "103333           0  5296.91  5744.53  19212.71          24957.24  2013         \n",
       "18778            0  23538.6           66686.56          66686.56  2011         \n",
       "\n",
       "               Agency Status  \n",
       "20765   San Francisco         \n",
       "21638   San Francisco         \n",
       "22972   San Francisco         \n",
       "24573   San Francisco         \n",
       "24574   San Francisco         \n",
       "...               ...    ...  \n",
       "58842   San Francisco         \n",
       "98074   San Francisco         \n",
       "138458  San Francisco     PT  \n",
       "103333  San Francisco         \n",
       "18778   San Francisco         \n",
       "\n",
       "[148654 rows x 13 columns]"
      ]
     },
     "execution_count": 38,
     "metadata": {},
     "output_type": "execute_result"
    }
   ],
   "source": [
    "frame_salaries.sort_values([\"JobTitle\",\"BasePay\"],ascending=[True,False])"
   ]
  },
  {
   "cell_type": "code",
   "execution_count": 39,
   "metadata": {},
   "outputs": [
    {
     "data": {
      "text/html": [
       "<div>\n",
       "<style scoped>\n",
       "    .dataframe tbody tr th:only-of-type {\n",
       "        vertical-align: middle;\n",
       "    }\n",
       "\n",
       "    .dataframe tbody tr th {\n",
       "        vertical-align: top;\n",
       "    }\n",
       "\n",
       "    .dataframe thead th {\n",
       "        text-align: right;\n",
       "    }\n",
       "</style>\n",
       "<table border=\"1\" class=\"dataframe\">\n",
       "  <thead>\n",
       "    <tr style=\"text-align: right;\">\n",
       "      <th></th>\n",
       "      <th>Id</th>\n",
       "      <th>TotalPay</th>\n",
       "      <th>TotalPayBenefits</th>\n",
       "      <th>Year</th>\n",
       "    </tr>\n",
       "  </thead>\n",
       "  <tbody>\n",
       "    <tr>\n",
       "      <th>count</th>\n",
       "      <td>148654.000000</td>\n",
       "      <td>148654.000000</td>\n",
       "      <td>148654.000000</td>\n",
       "      <td>148654.000000</td>\n",
       "    </tr>\n",
       "    <tr>\n",
       "      <th>mean</th>\n",
       "      <td>74327.500000</td>\n",
       "      <td>74768.321972</td>\n",
       "      <td>93692.554811</td>\n",
       "      <td>2012.522643</td>\n",
       "    </tr>\n",
       "    <tr>\n",
       "      <th>std</th>\n",
       "      <td>42912.857795</td>\n",
       "      <td>50517.005274</td>\n",
       "      <td>62793.533483</td>\n",
       "      <td>1.117538</td>\n",
       "    </tr>\n",
       "    <tr>\n",
       "      <th>min</th>\n",
       "      <td>1.000000</td>\n",
       "      <td>-618.130000</td>\n",
       "      <td>-618.130000</td>\n",
       "      <td>2011.000000</td>\n",
       "    </tr>\n",
       "    <tr>\n",
       "      <th>25%</th>\n",
       "      <td>37164.250000</td>\n",
       "      <td>36168.995000</td>\n",
       "      <td>44065.650000</td>\n",
       "      <td>2012.000000</td>\n",
       "    </tr>\n",
       "    <tr>\n",
       "      <th>50%</th>\n",
       "      <td>74327.500000</td>\n",
       "      <td>71426.610000</td>\n",
       "      <td>92404.090000</td>\n",
       "      <td>2013.000000</td>\n",
       "    </tr>\n",
       "    <tr>\n",
       "      <th>75%</th>\n",
       "      <td>111490.750000</td>\n",
       "      <td>105839.135000</td>\n",
       "      <td>132876.450000</td>\n",
       "      <td>2014.000000</td>\n",
       "    </tr>\n",
       "    <tr>\n",
       "      <th>max</th>\n",
       "      <td>148654.000000</td>\n",
       "      <td>567595.430000</td>\n",
       "      <td>567595.430000</td>\n",
       "      <td>2014.000000</td>\n",
       "    </tr>\n",
       "  </tbody>\n",
       "</table>\n",
       "</div>"
      ],
      "text/plain": [
       "                  Id       TotalPay  TotalPayBenefits           Year\n",
       "count  148654.000000  148654.000000     148654.000000  148654.000000\n",
       "mean    74327.500000   74768.321972      93692.554811    2012.522643\n",
       "std     42912.857795   50517.005274      62793.533483       1.117538\n",
       "min         1.000000    -618.130000       -618.130000    2011.000000\n",
       "25%     37164.250000   36168.995000      44065.650000    2012.000000\n",
       "50%     74327.500000   71426.610000      92404.090000    2013.000000\n",
       "75%    111490.750000  105839.135000     132876.450000    2014.000000\n",
       "max    148654.000000  567595.430000     567595.430000    2014.000000"
      ]
     },
     "execution_count": 39,
     "metadata": {},
     "output_type": "execute_result"
    }
   ],
   "source": [
    "frame_salaries.describe()"
   ]
  },
  {
   "cell_type": "markdown",
   "metadata": {
    "slideshow": {
     "slide_type": "slide"
    }
   },
   "source": [
    "# Les statistiques simples\n",
    "\n",
    "Les Dataframe possèdent de nombreuses méthodes pour calculer des statistiques simples :\n",
    "- `.sum(axis=0)` permet de faire une somme par colonne\n",
    "- `.sum(axis=1)` permet de faire une somme par ligne\n",
    "- `.min()` et `.max()` donnent le minimum par colonne\n",
    "- `.idxmin()` et `.idxmax()` donnent l’index du minimum et du maximum\n",
    "- `.describe()` affiche un tableau de statistiques descriptives par colonne\n",
    "- `.corr()` pour calculer la corrélation entre les colonnes"
   ]
  },
  {
   "cell_type": "markdown",
   "metadata": {
    "slideshow": {
     "slide_type": "subslide"
    }
   },
   "source": [
    "**Exercice :**\n",
    "    \n",
    "Obtenir les différentes statistiques descriptives pour les données AirBnB.\n",
    "\n",
    "On peut s'intéresser à la colonne `Price` (attention des prétraitements sont nécessaires)\n"
   ]
  },
  {
   "cell_type": "code",
   "execution_count": 40,
   "metadata": {},
   "outputs": [],
   "source": [
    "airbnb[\"price2\"] = pd.to_numeric(airbnb[\"price\"].str.replace(\"$\",\"\").str.replace(\",\",\"\"))"
   ]
  },
  {
   "cell_type": "code",
   "execution_count": 41,
   "metadata": {},
   "outputs": [
    {
     "data": {
      "text/plain": [
       "116.32598180157629"
      ]
     },
     "execution_count": 41,
     "metadata": {},
     "output_type": "execute_result"
    }
   ],
   "source": [
    "airbnb[\"price2\"].mean()"
   ]
  },
  {
   "cell_type": "code",
   "execution_count": 42,
   "metadata": {},
   "outputs": [
    {
     "data": {
      "text/plain": [
       "count    59126.000000\n",
       "mean       116.325982\n",
       "std        167.669754\n",
       "min          0.000000\n",
       "25%         59.000000\n",
       "50%         80.000000\n",
       "75%        120.000000\n",
       "max       9379.000000\n",
       "Name: price2, dtype: float64"
      ]
     },
     "execution_count": 42,
     "metadata": {},
     "output_type": "execute_result"
    }
   ],
   "source": [
    "airbnb[\"price2\"].describe()"
   ]
  },
  {
   "cell_type": "code",
   "execution_count": 43,
   "metadata": {},
   "outputs": [
    {
     "data": {
      "text/plain": [
       "Index(['id', 'listing_url', 'scrape_id', 'last_scraped', 'name', 'summary',\n",
       "       'space', 'description', 'experiences_offered', 'neighborhood_overview',\n",
       "       ...\n",
       "       'is_business_travel_ready', 'cancellation_policy',\n",
       "       'require_guest_profile_picture', 'require_guest_phone_verification',\n",
       "       'calculated_host_listings_count',\n",
       "       'calculated_host_listings_count_entire_homes',\n",
       "       'calculated_host_listings_count_private_rooms',\n",
       "       'calculated_host_listings_count_shared_rooms', 'reviews_per_month',\n",
       "       'price2'],\n",
       "      dtype='object', length=107)"
      ]
     },
     "execution_count": 43,
     "metadata": {},
     "output_type": "execute_result"
    }
   ],
   "source": [
    "airbnb.columns"
   ]
  },
  {
   "cell_type": "code",
   "execution_count": 44,
   "metadata": {
    "scrolled": false
   },
   "outputs": [
    {
     "data": {
      "text/plain": [
       "id                                                                           7225849\n",
       "listing_url                                     https://www.airbnb.com/rooms/7225849\n",
       "scrape_id                                                             20190507030954\n",
       "last_scraped                                                              2019-05-07\n",
       "name                                                  Artistic apartment, Montmartre\n",
       "                                                                ...                 \n",
       "calculated_host_listings_count_entire_homes                                        1\n",
       "calculated_host_listings_count_private_rooms                                       0\n",
       "calculated_host_listings_count_shared_rooms                                        0\n",
       "reviews_per_month                                                               0.51\n",
       "price2                                                                          9379\n",
       "Name: 12976, Length: 107, dtype: object"
      ]
     },
     "execution_count": 44,
     "metadata": {},
     "output_type": "execute_result"
    }
   ],
   "source": [
    "airbnb.iloc[airbnb[\"price2\"].idxmax()]"
   ]
  },
  {
   "cell_type": "code",
   "execution_count": 45,
   "metadata": {},
   "outputs": [
    {
     "data": {
      "text/html": [
       "<div>\n",
       "<style scoped>\n",
       "    .dataframe tbody tr th:only-of-type {\n",
       "        vertical-align: middle;\n",
       "    }\n",
       "\n",
       "    .dataframe tbody tr th {\n",
       "        vertical-align: top;\n",
       "    }\n",
       "\n",
       "    .dataframe thead th {\n",
       "        text-align: right;\n",
       "    }\n",
       "</style>\n",
       "<table border=\"1\" class=\"dataframe\">\n",
       "  <thead>\n",
       "    <tr style=\"text-align: right;\">\n",
       "      <th></th>\n",
       "      <th>id</th>\n",
       "      <th>listing_url</th>\n",
       "      <th>scrape_id</th>\n",
       "      <th>last_scraped</th>\n",
       "      <th>name</th>\n",
       "      <th>summary</th>\n",
       "      <th>space</th>\n",
       "      <th>description</th>\n",
       "      <th>experiences_offered</th>\n",
       "      <th>neighborhood_overview</th>\n",
       "      <th>...</th>\n",
       "      <th>is_business_travel_ready</th>\n",
       "      <th>cancellation_policy</th>\n",
       "      <th>require_guest_profile_picture</th>\n",
       "      <th>require_guest_phone_verification</th>\n",
       "      <th>calculated_host_listings_count</th>\n",
       "      <th>calculated_host_listings_count_entire_homes</th>\n",
       "      <th>calculated_host_listings_count_private_rooms</th>\n",
       "      <th>calculated_host_listings_count_shared_rooms</th>\n",
       "      <th>reviews_per_month</th>\n",
       "      <th>price2</th>\n",
       "    </tr>\n",
       "  </thead>\n",
       "  <tbody>\n",
       "    <tr>\n",
       "      <th>33559</th>\n",
       "      <td>19974916</td>\n",
       "      <td>https://www.airbnb.com/rooms/19974916</td>\n",
       "      <td>20190507030954</td>\n",
       "      <td>2019-05-07</td>\n",
       "      <td>Petit nid - village de Montmartre</td>\n",
       "      <td>À deux pas de la Basilique du Sacré Cœur. Dans...</td>\n",
       "      <td>À deux pas du Sacré Cœur dans une charmante ru...</td>\n",
       "      <td>À deux pas de la Basilique du Sacré Cœur. Dans...</td>\n",
       "      <td>none</td>\n",
       "      <td>Montmartre!</td>\n",
       "      <td>...</td>\n",
       "      <td>f</td>\n",
       "      <td>strict_14_with_grace_period</td>\n",
       "      <td>f</td>\n",
       "      <td>f</td>\n",
       "      <td>1</td>\n",
       "      <td>1</td>\n",
       "      <td>0</td>\n",
       "      <td>0</td>\n",
       "      <td>2.58</td>\n",
       "      <td>0.0</td>\n",
       "    </tr>\n",
       "    <tr>\n",
       "      <th>34341</th>\n",
       "      <td>20291987</td>\n",
       "      <td>https://www.airbnb.com/rooms/20291987</td>\n",
       "      <td>20190507030954</td>\n",
       "      <td>2019-05-08</td>\n",
       "      <td>Romantic Garden view near Champs-Elysées</td>\n",
       "      <td>Very private, on an inner romantic garden, rem...</td>\n",
       "      <td>The studio offers a well-equipped space and is...</td>\n",
       "      <td>Very private, on an inner romantic garden, rem...</td>\n",
       "      <td>none</td>\n",
       "      <td>Quiet neighborhood, small supermarket across t...</td>\n",
       "      <td>...</td>\n",
       "      <td>f</td>\n",
       "      <td>strict_14_with_grace_period</td>\n",
       "      <td>f</td>\n",
       "      <td>f</td>\n",
       "      <td>5</td>\n",
       "      <td>5</td>\n",
       "      <td>0</td>\n",
       "      <td>0</td>\n",
       "      <td>1.42</td>\n",
       "      <td>0.0</td>\n",
       "    </tr>\n",
       "    <tr>\n",
       "      <th>46598</th>\n",
       "      <td>27546389</td>\n",
       "      <td>https://www.airbnb.com/rooms/27546389</td>\n",
       "      <td>20190507030954</td>\n",
       "      <td>2019-05-07</td>\n",
       "      <td>Appartement familiale dans le 12ème</td>\n",
       "      <td>NaN</td>\n",
       "      <td>Appartement familiale comprenant trois chambre...</td>\n",
       "      <td>Appartement familiale comprenant trois chambre...</td>\n",
       "      <td>none</td>\n",
       "      <td>NaN</td>\n",
       "      <td>...</td>\n",
       "      <td>f</td>\n",
       "      <td>strict_14_with_grace_period</td>\n",
       "      <td>f</td>\n",
       "      <td>f</td>\n",
       "      <td>1</td>\n",
       "      <td>1</td>\n",
       "      <td>0</td>\n",
       "      <td>0</td>\n",
       "      <td>NaN</td>\n",
       "      <td>0.0</td>\n",
       "    </tr>\n",
       "    <tr>\n",
       "      <th>34370</th>\n",
       "      <td>20313940</td>\n",
       "      <td>https://www.airbnb.com/rooms/20313940</td>\n",
       "      <td>20190507030954</td>\n",
       "      <td>2019-05-07</td>\n",
       "      <td>Charming loft in the Upper Marais</td>\n",
       "      <td>Charming artist's loft on the top floor of an ...</td>\n",
       "      <td>The apartment is a single open space with cath...</td>\n",
       "      <td>Charming artist's loft on the top floor of an ...</td>\n",
       "      <td>none</td>\n",
       "      <td>The Upper Marais, where the apartment is locat...</td>\n",
       "      <td>...</td>\n",
       "      <td>f</td>\n",
       "      <td>moderate</td>\n",
       "      <td>f</td>\n",
       "      <td>f</td>\n",
       "      <td>1</td>\n",
       "      <td>1</td>\n",
       "      <td>0</td>\n",
       "      <td>0</td>\n",
       "      <td>1.29</td>\n",
       "      <td>0.0</td>\n",
       "    </tr>\n",
       "    <tr>\n",
       "      <th>34191</th>\n",
       "      <td>20219162</td>\n",
       "      <td>https://www.airbnb.com/rooms/20219162</td>\n",
       "      <td>20190507030954</td>\n",
       "      <td>2019-05-07</td>\n",
       "      <td>Nice &amp; cosy parisian flat</td>\n",
       "      <td>Hello :) Welcome to the best area of Paris ! T...</td>\n",
       "      <td>NaN</td>\n",
       "      <td>Hello :) Welcome to the best area of Paris ! T...</td>\n",
       "      <td>none</td>\n",
       "      <td>NaN</td>\n",
       "      <td>...</td>\n",
       "      <td>f</td>\n",
       "      <td>moderate</td>\n",
       "      <td>f</td>\n",
       "      <td>f</td>\n",
       "      <td>1</td>\n",
       "      <td>1</td>\n",
       "      <td>0</td>\n",
       "      <td>0</td>\n",
       "      <td>0.12</td>\n",
       "      <td>0.0</td>\n",
       "    </tr>\n",
       "    <tr>\n",
       "      <th>...</th>\n",
       "      <td>...</td>\n",
       "      <td>...</td>\n",
       "      <td>...</td>\n",
       "      <td>...</td>\n",
       "      <td>...</td>\n",
       "      <td>...</td>\n",
       "      <td>...</td>\n",
       "      <td>...</td>\n",
       "      <td>...</td>\n",
       "      <td>...</td>\n",
       "      <td>...</td>\n",
       "      <td>...</td>\n",
       "      <td>...</td>\n",
       "      <td>...</td>\n",
       "      <td>...</td>\n",
       "      <td>...</td>\n",
       "      <td>...</td>\n",
       "      <td>...</td>\n",
       "      <td>...</td>\n",
       "      <td>...</td>\n",
       "      <td>...</td>\n",
       "    </tr>\n",
       "    <tr>\n",
       "      <th>10073</th>\n",
       "      <td>6088687</td>\n",
       "      <td>https://www.airbnb.com/rooms/6088687</td>\n",
       "      <td>20190507030954</td>\n",
       "      <td>2019-05-07</td>\n",
       "      <td>Lovely Duplex 30m2 - Le Marais</td>\n",
       "      <td>The apartment is a charming studio organized i...</td>\n",
       "      <td>Hello! I entrust to you my charming duplex apa...</td>\n",
       "      <td>The apartment is a charming studio organized i...</td>\n",
       "      <td>none</td>\n",
       "      <td>Great neighbourhood, very central in the 3rd d...</td>\n",
       "      <td>...</td>\n",
       "      <td>f</td>\n",
       "      <td>strict_14_with_grace_period</td>\n",
       "      <td>f</td>\n",
       "      <td>f</td>\n",
       "      <td>1</td>\n",
       "      <td>1</td>\n",
       "      <td>0</td>\n",
       "      <td>0</td>\n",
       "      <td>0.78</td>\n",
       "      <td>8500.0</td>\n",
       "    </tr>\n",
       "    <tr>\n",
       "      <th>42726</th>\n",
       "      <td>25448670</td>\n",
       "      <td>https://www.airbnb.com/rooms/25448670</td>\n",
       "      <td>20190507030954</td>\n",
       "      <td>2019-05-08</td>\n",
       "      <td>cosytiti Paris 15</td>\n",
       "      <td>cosytiti</td>\n",
       "      <td>cosytiti</td>\n",
       "      <td>cosytiti cosytiti facile</td>\n",
       "      <td>none</td>\n",
       "      <td>NaN</td>\n",
       "      <td>...</td>\n",
       "      <td>f</td>\n",
       "      <td>flexible</td>\n",
       "      <td>f</td>\n",
       "      <td>f</td>\n",
       "      <td>1</td>\n",
       "      <td>1</td>\n",
       "      <td>0</td>\n",
       "      <td>0</td>\n",
       "      <td>0.18</td>\n",
       "      <td>8576.0</td>\n",
       "    </tr>\n",
       "    <tr>\n",
       "      <th>14823</th>\n",
       "      <td>8093890</td>\n",
       "      <td>https://www.airbnb.com/rooms/8093890</td>\n",
       "      <td>20190507030954</td>\n",
       "      <td>2019-05-08</td>\n",
       "      <td>EIFFEL TOWER TROCADERO 2 BEDROOM</td>\n",
       "      <td>Wonderful parisian flat close (3 min walk) to ...</td>\n",
       "      <td>The room is situated in a very nice Parisian \"...</td>\n",
       "      <td>Wonderful parisian flat close (3 min walk) to ...</td>\n",
       "      <td>none</td>\n",
       "      <td>Close to Trocadero, arc de Triomphe, the area ...</td>\n",
       "      <td>...</td>\n",
       "      <td>f</td>\n",
       "      <td>strict_14_with_grace_period</td>\n",
       "      <td>f</td>\n",
       "      <td>f</td>\n",
       "      <td>1</td>\n",
       "      <td>1</td>\n",
       "      <td>0</td>\n",
       "      <td>0</td>\n",
       "      <td>0.21</td>\n",
       "      <td>8721.0</td>\n",
       "    </tr>\n",
       "    <tr>\n",
       "      <th>46718</th>\n",
       "      <td>27608896</td>\n",
       "      <td>https://www.airbnb.com/rooms/27608896</td>\n",
       "      <td>20190507030954</td>\n",
       "      <td>2019-05-07</td>\n",
       "      <td>Petit studio parisien</td>\n",
       "      <td>Petit studio tranquille dans le 14e Reposant e...</td>\n",
       "      <td>NaN</td>\n",
       "      <td>Petit studio tranquille dans le 14e Reposant e...</td>\n",
       "      <td>none</td>\n",
       "      <td>NaN</td>\n",
       "      <td>...</td>\n",
       "      <td>f</td>\n",
       "      <td>flexible</td>\n",
       "      <td>f</td>\n",
       "      <td>f</td>\n",
       "      <td>1</td>\n",
       "      <td>0</td>\n",
       "      <td>1</td>\n",
       "      <td>0</td>\n",
       "      <td>0.11</td>\n",
       "      <td>8932.0</td>\n",
       "    </tr>\n",
       "    <tr>\n",
       "      <th>12976</th>\n",
       "      <td>7225849</td>\n",
       "      <td>https://www.airbnb.com/rooms/7225849</td>\n",
       "      <td>20190507030954</td>\n",
       "      <td>2019-05-07</td>\n",
       "      <td>Artistic apartment, Montmartre</td>\n",
       "      <td>2 bedrooms on different floors in this Duplex....</td>\n",
       "      <td>English: Lots of art in various form will be s...</td>\n",
       "      <td>2 bedrooms on different floors in this Duplex....</td>\n",
       "      <td>none</td>\n",
       "      <td>NaN</td>\n",
       "      <td>...</td>\n",
       "      <td>f</td>\n",
       "      <td>moderate</td>\n",
       "      <td>f</td>\n",
       "      <td>f</td>\n",
       "      <td>1</td>\n",
       "      <td>1</td>\n",
       "      <td>0</td>\n",
       "      <td>0</td>\n",
       "      <td>0.51</td>\n",
       "      <td>9379.0</td>\n",
       "    </tr>\n",
       "  </tbody>\n",
       "</table>\n",
       "<p>59126 rows × 107 columns</p>\n",
       "</div>"
      ],
      "text/plain": [
       "             id                            listing_url       scrape_id  \\\n",
       "33559  19974916  https://www.airbnb.com/rooms/19974916  20190507030954   \n",
       "34341  20291987  https://www.airbnb.com/rooms/20291987  20190507030954   \n",
       "46598  27546389  https://www.airbnb.com/rooms/27546389  20190507030954   \n",
       "34370  20313940  https://www.airbnb.com/rooms/20313940  20190507030954   \n",
       "34191  20219162  https://www.airbnb.com/rooms/20219162  20190507030954   \n",
       "...         ...                                    ...             ...   \n",
       "10073   6088687   https://www.airbnb.com/rooms/6088687  20190507030954   \n",
       "42726  25448670  https://www.airbnb.com/rooms/25448670  20190507030954   \n",
       "14823   8093890   https://www.airbnb.com/rooms/8093890  20190507030954   \n",
       "46718  27608896  https://www.airbnb.com/rooms/27608896  20190507030954   \n",
       "12976   7225849   https://www.airbnb.com/rooms/7225849  20190507030954   \n",
       "\n",
       "      last_scraped                                      name  \\\n",
       "33559   2019-05-07         Petit nid - village de Montmartre   \n",
       "34341   2019-05-08  Romantic Garden view near Champs-Elysées   \n",
       "46598   2019-05-07       Appartement familiale dans le 12ème   \n",
       "34370   2019-05-07         Charming loft in the Upper Marais   \n",
       "34191   2019-05-07                 Nice & cosy parisian flat   \n",
       "...            ...                                       ...   \n",
       "10073   2019-05-07            Lovely Duplex 30m2 - Le Marais   \n",
       "42726   2019-05-08                         cosytiti Paris 15   \n",
       "14823   2019-05-08          EIFFEL TOWER TROCADERO 2 BEDROOM   \n",
       "46718   2019-05-07                     Petit studio parisien   \n",
       "12976   2019-05-07            Artistic apartment, Montmartre   \n",
       "\n",
       "                                                 summary  \\\n",
       "33559  À deux pas de la Basilique du Sacré Cœur. Dans...   \n",
       "34341  Very private, on an inner romantic garden, rem...   \n",
       "46598                                                NaN   \n",
       "34370  Charming artist's loft on the top floor of an ...   \n",
       "34191  Hello :) Welcome to the best area of Paris ! T...   \n",
       "...                                                  ...   \n",
       "10073  The apartment is a charming studio organized i...   \n",
       "42726                                           cosytiti   \n",
       "14823  Wonderful parisian flat close (3 min walk) to ...   \n",
       "46718  Petit studio tranquille dans le 14e Reposant e...   \n",
       "12976  2 bedrooms on different floors in this Duplex....   \n",
       "\n",
       "                                                   space  \\\n",
       "33559  À deux pas du Sacré Cœur dans une charmante ru...   \n",
       "34341  The studio offers a well-equipped space and is...   \n",
       "46598  Appartement familiale comprenant trois chambre...   \n",
       "34370  The apartment is a single open space with cath...   \n",
       "34191                                                NaN   \n",
       "...                                                  ...   \n",
       "10073  Hello! I entrust to you my charming duplex apa...   \n",
       "42726                                           cosytiti   \n",
       "14823  The room is situated in a very nice Parisian \"...   \n",
       "46718                                                NaN   \n",
       "12976  English: Lots of art in various form will be s...   \n",
       "\n",
       "                                             description experiences_offered  \\\n",
       "33559  À deux pas de la Basilique du Sacré Cœur. Dans...                none   \n",
       "34341  Very private, on an inner romantic garden, rem...                none   \n",
       "46598  Appartement familiale comprenant trois chambre...                none   \n",
       "34370  Charming artist's loft on the top floor of an ...                none   \n",
       "34191  Hello :) Welcome to the best area of Paris ! T...                none   \n",
       "...                                                  ...                 ...   \n",
       "10073  The apartment is a charming studio organized i...                none   \n",
       "42726                           cosytiti cosytiti facile                none   \n",
       "14823  Wonderful parisian flat close (3 min walk) to ...                none   \n",
       "46718  Petit studio tranquille dans le 14e Reposant e...                none   \n",
       "12976  2 bedrooms on different floors in this Duplex....                none   \n",
       "\n",
       "                                   neighborhood_overview  ...  \\\n",
       "33559                                        Montmartre!  ...   \n",
       "34341  Quiet neighborhood, small supermarket across t...  ...   \n",
       "46598                                                NaN  ...   \n",
       "34370  The Upper Marais, where the apartment is locat...  ...   \n",
       "34191                                                NaN  ...   \n",
       "...                                                  ...  ...   \n",
       "10073  Great neighbourhood, very central in the 3rd d...  ...   \n",
       "42726                                                NaN  ...   \n",
       "14823  Close to Trocadero, arc de Triomphe, the area ...  ...   \n",
       "46718                                                NaN  ...   \n",
       "12976                                                NaN  ...   \n",
       "\n",
       "      is_business_travel_ready          cancellation_policy  \\\n",
       "33559                        f  strict_14_with_grace_period   \n",
       "34341                        f  strict_14_with_grace_period   \n",
       "46598                        f  strict_14_with_grace_period   \n",
       "34370                        f                     moderate   \n",
       "34191                        f                     moderate   \n",
       "...                        ...                          ...   \n",
       "10073                        f  strict_14_with_grace_period   \n",
       "42726                        f                     flexible   \n",
       "14823                        f  strict_14_with_grace_period   \n",
       "46718                        f                     flexible   \n",
       "12976                        f                     moderate   \n",
       "\n",
       "      require_guest_profile_picture require_guest_phone_verification  \\\n",
       "33559                             f                                f   \n",
       "34341                             f                                f   \n",
       "46598                             f                                f   \n",
       "34370                             f                                f   \n",
       "34191                             f                                f   \n",
       "...                             ...                              ...   \n",
       "10073                             f                                f   \n",
       "42726                             f                                f   \n",
       "14823                             f                                f   \n",
       "46718                             f                                f   \n",
       "12976                             f                                f   \n",
       "\n",
       "      calculated_host_listings_count  \\\n",
       "33559                              1   \n",
       "34341                              5   \n",
       "46598                              1   \n",
       "34370                              1   \n",
       "34191                              1   \n",
       "...                              ...   \n",
       "10073                              1   \n",
       "42726                              1   \n",
       "14823                              1   \n",
       "46718                              1   \n",
       "12976                              1   \n",
       "\n",
       "       calculated_host_listings_count_entire_homes  \\\n",
       "33559                                            1   \n",
       "34341                                            5   \n",
       "46598                                            1   \n",
       "34370                                            1   \n",
       "34191                                            1   \n",
       "...                                            ...   \n",
       "10073                                            1   \n",
       "42726                                            1   \n",
       "14823                                            1   \n",
       "46718                                            0   \n",
       "12976                                            1   \n",
       "\n",
       "       calculated_host_listings_count_private_rooms  \\\n",
       "33559                                             0   \n",
       "34341                                             0   \n",
       "46598                                             0   \n",
       "34370                                             0   \n",
       "34191                                             0   \n",
       "...                                             ...   \n",
       "10073                                             0   \n",
       "42726                                             0   \n",
       "14823                                             0   \n",
       "46718                                             1   \n",
       "12976                                             0   \n",
       "\n",
       "      calculated_host_listings_count_shared_rooms  reviews_per_month  price2  \n",
       "33559                                           0               2.58     0.0  \n",
       "34341                                           0               1.42     0.0  \n",
       "46598                                           0                NaN     0.0  \n",
       "34370                                           0               1.29     0.0  \n",
       "34191                                           0               0.12     0.0  \n",
       "...                                           ...                ...     ...  \n",
       "10073                                           0               0.78  8500.0  \n",
       "42726                                           0               0.18  8576.0  \n",
       "14823                                           0               0.21  8721.0  \n",
       "46718                                           0               0.11  8932.0  \n",
       "12976                                           0               0.51  9379.0  \n",
       "\n",
       "[59126 rows x 107 columns]"
      ]
     },
     "execution_count": 45,
     "metadata": {},
     "output_type": "execute_result"
    }
   ],
   "source": [
    "airbnb.sort_values(\"price2\")"
   ]
  },
  {
   "cell_type": "markdown",
   "metadata": {
    "slideshow": {
     "slide_type": "slide"
    }
   },
   "source": [
    "# Le traitement des données manquantes\n",
    "\n",
    "- Les données manquantes sont identifiées par `NaN`\n",
    "\n",
    "\n",
    "- `.dropna()` permet de retirer les données manquantes dans un objet Series et l’ensemble d’une ligne dans le cas d’un DataFrame\n",
    "- Pour éliminer par colonne, on utilise `.dropna(axis=1)`\n",
    "- Remplacer toutes les données manquantes `.fillna(valeur)`\n"
   ]
  },
  {
   "cell_type": "markdown",
   "metadata": {
    "slideshow": {
     "slide_type": "slide"
    }
   },
   "source": [
    "# Les jointures avec Pandas\n",
    "\n",
    "On veut joindre des jeux de données en utilisant des clés (variables communes)\n",
    "\n",
    "- `pd.merge()` permet de joindre deux DataFrame, on utilise comme options `on='key'`\n",
    "\n",
    "- On peut utiliser comme option `how=`, on peut avoir :\n",
    "    - `left` dans ce cas, on garde le jeu de données à gauche et pour les données de droite des valeurs manquantes sont ajoutées.\n",
    "    - `outer`, on garde toutes les valeurs des deux jeux de données\n",
    "    - ...\n",
    "\n",
    "- On peut avoir plusieurs clés et faire une jointure sur les deux clés `on=['key1','key2']`\n",
    "\n",
    "Pour plus de détails : <http://pandas.pydata.org/pandas-docs/dev/generated/pandas.DataFrame.merge.html>\n"
   ]
  },
  {
   "cell_type": "markdown",
   "metadata": {
    "slideshow": {
     "slide_type": "subslide"
    }
   },
   "source": [
    "**Exercice :**\n",
    "    \n",
    "Joindre deux dataframes (credit1 et credit2).\n"
   ]
  },
  {
   "cell_type": "code",
   "execution_count": 46,
   "metadata": {},
   "outputs": [],
   "source": [
    "credit1 = pd.read_table(\"./data/credit1.txt\")"
   ]
  },
  {
   "cell_type": "code",
   "execution_count": 47,
   "metadata": {},
   "outputs": [],
   "source": [
    "credit_global = pd.merge(credit1,credit2,on=\"Customer_ID\")"
   ]
  },
  {
   "cell_type": "code",
   "execution_count": 48,
   "metadata": {},
   "outputs": [
    {
     "name": "stdout",
     "output_type": "stream",
     "text": [
      "<class 'pandas.core.frame.DataFrame'>\n",
      "Int64Index: 2000 entries, 0 to 1999\n",
      "Data columns (total 31 columns):\n",
      "Months_as_a_Customer               2000 non-null int64\n",
      "Number_of_Products                 2000 non-null int64\n",
      "RFM_Score                          2000 non-null int64\n",
      "Average_Balance_Feed_Index         2000 non-null int64\n",
      "Number_of_Transactions             2000 non-null int64\n",
      "Personal_Debt_to_Equity_Ratio      2000 non-null int64\n",
      "Months_Current_Account             2000 non-null int64\n",
      "Number_of_Loan_Accounts            2000 non-null int64\n",
      "Customer_ID                        2000 non-null int64\n",
      "Has_Bad_Payment_Record             2000 non-null int64\n",
      "Members_Within_Household           2000 non-null int64\n",
      "Number_of_Call_Center_Contacts     2000 non-null int64\n",
      "Weeks_Since_Last_Offer             2000 non-null int64\n",
      "Accepted_Personal_Loan             2000 non-null object\n",
      "Accepted_Retention                 2000 non-null object\n",
      "Accepted_Home_Equity_Loan          2000 non-null object\n",
      "Accepted_Credit_Card               2000 non-null object\n",
      "Annual_value                       2000 non-null int64\n",
      "Interested_in_Personal_Loan        2000 non-null object\n",
      "Interested_in_Retention            2000 non-null object\n",
      "Interested_in_Home_Equity_Loan     2000 non-null object\n",
      "Interested_in_Credit_Card          2000 non-null object\n",
      "Age                                2000 non-null int64\n",
      "Gender                             2000 non-null object\n",
      "Marital_Status                     2000 non-null object\n",
      "Age_Youngest_Child                 2000 non-null int64\n",
      "Number_of_Workers_in_Household     2000 non-null int64\n",
      "Percentage_White_Collar_Workers    2000 non-null int64\n",
      "Household_Debt_to_Equity_Ratio     2000 non-null int64\n",
      "Income                             2000 non-null int64\n",
      "Homeowner                          2000 non-null object\n",
      "dtypes: int64(20), object(11)\n",
      "memory usage: 500.0+ KB\n"
     ]
    }
   ],
   "source": [
    "credit_global.info()"
   ]
  },
  {
   "cell_type": "markdown",
   "metadata": {
    "slideshow": {
     "slide_type": "slide"
    }
   },
   "source": [
    "# Gestion des duplications\n",
    "\n",
    "- On utilise `.duplicated()` ou `.drop_duplicates()` dans le cas où on désire effacer les lignes se répétant\n",
    "\n",
    "\n",
    "- On peut se concentrer sur une seule variables en entrant directement le nom de la variable. Dans ce cas, c’est la première apparition qui compte. Si on veut prendre la dernière apparition, on utilise l’option `keep=\"last\"`. On pourra avoir :\n",
    "```python\n",
    "frame1.drop_duplicates([\"col_0\",\"col_1\"],keep=\"last\")\n",
    "```"
   ]
  },
  {
   "cell_type": "markdown",
   "metadata": {
    "slideshow": {
     "slide_type": "slide"
    }
   },
   "source": [
    "# Discrétisation\n",
    "\n",
    "Pour discrétiser, on utilise la fonction `pd.cut()`, on va définir une liste de points pour discrétiser et on entre cette liste comme second paramètre de la fonction.\n",
    "\n",
    "Une fois discrétisé, on peut afficher les modalités obtenues en utilisant `.categories`\n",
    "\n",
    "On peut aussi compter les occurrence en utilisant `pd.value_counts()`\n",
    "\n",
    "Il est aussi possible d’entrer le nombre de segments comme second paramètre\n",
    "\n",
    "On utilisera aussi `qcut()`"
   ]
  },
  {
   "cell_type": "markdown",
   "metadata": {
    "slideshow": {
     "slide_type": "subslide"
    }
   },
   "source": [
    "**Exercice :**\n",
    "    \n",
    "Créez une variable dans le dataframe AirBnB pour obtenir des niveaux de prix.\n"
   ]
  },
  {
   "cell_type": "code",
   "execution_count": 49,
   "metadata": {},
   "outputs": [
    {
     "data": {
      "text/plain": [
       "(-9.379, 1875.8]    59078\n",
       "(1875.8, 3751.6]       36\n",
       "(7503.2, 9379.0]        6\n",
       "(3751.6, 5627.4]        6\n",
       "(5627.4, 7503.2]        0\n",
       "Name: price_disc, dtype: int64"
      ]
     },
     "execution_count": 49,
     "metadata": {},
     "output_type": "execute_result"
    }
   ],
   "source": [
    "airbnb[\"price_disc\"]=pd.cut(airbnb[\"price2\"],5)\n",
    "airbnb[\"price_disc\"].value_counts()"
   ]
  },
  {
   "cell_type": "code",
   "execution_count": 50,
   "metadata": {},
   "outputs": [
    {
     "data": {
      "text/plain": [
       "(59.0, 80.0]       15593\n",
       "(-0.001, 59.0]     14842\n",
       "(80.0, 120.0]      14573\n",
       "(120.0, 9379.0]    14118\n",
       "Name: price_disc2, dtype: int64"
      ]
     },
     "execution_count": 50,
     "metadata": {},
     "output_type": "execute_result"
    }
   ],
   "source": [
    "airbnb[\"price_disc2\"]=pd.qcut(airbnb[\"price2\"],4)\n",
    "airbnb[\"price_disc2\"].value_counts()"
   ]
  },
  {
   "cell_type": "code",
   "execution_count": 51,
   "metadata": {},
   "outputs": [
    {
     "data": {
      "text/html": [
       "<div>\n",
       "<style scoped>\n",
       "    .dataframe tbody tr th:only-of-type {\n",
       "        vertical-align: middle;\n",
       "    }\n",
       "\n",
       "    .dataframe tbody tr th {\n",
       "        vertical-align: top;\n",
       "    }\n",
       "\n",
       "    .dataframe thead th {\n",
       "        text-align: right;\n",
       "    }\n",
       "</style>\n",
       "<table border=\"1\" class=\"dataframe\">\n",
       "  <thead>\n",
       "    <tr style=\"text-align: right;\">\n",
       "      <th></th>\n",
       "      <th>id</th>\n",
       "      <th>listing_url</th>\n",
       "      <th>scrape_id</th>\n",
       "      <th>last_scraped</th>\n",
       "      <th>name</th>\n",
       "      <th>summary</th>\n",
       "      <th>space</th>\n",
       "      <th>description</th>\n",
       "      <th>experiences_offered</th>\n",
       "      <th>neighborhood_overview</th>\n",
       "      <th>...</th>\n",
       "      <th>require_guest_profile_picture</th>\n",
       "      <th>require_guest_phone_verification</th>\n",
       "      <th>calculated_host_listings_count</th>\n",
       "      <th>calculated_host_listings_count_entire_homes</th>\n",
       "      <th>calculated_host_listings_count_private_rooms</th>\n",
       "      <th>calculated_host_listings_count_shared_rooms</th>\n",
       "      <th>reviews_per_month</th>\n",
       "      <th>price2</th>\n",
       "      <th>price_disc</th>\n",
       "      <th>price_disc2</th>\n",
       "    </tr>\n",
       "  </thead>\n",
       "  <tbody>\n",
       "    <tr>\n",
       "      <th>73</th>\n",
       "      <td>36868</td>\n",
       "      <td>https://www.airbnb.com/rooms/36868</td>\n",
       "      <td>20190507030954</td>\n",
       "      <td>2019-05-08</td>\n",
       "      <td>Great family size apt near park !</td>\n",
       "      <td>Three bedroom in quiet street but lively neigh...</td>\n",
       "      <td>Hi! I'm offering my own Paris apartment for se...</td>\n",
       "      <td>Three bedroom in quiet street but lively neigh...</td>\n",
       "      <td>none</td>\n",
       "      <td>wonderful neighborhood : quite yet lively, two...</td>\n",
       "      <td>...</td>\n",
       "      <td>f</td>\n",
       "      <td>f</td>\n",
       "      <td>1</td>\n",
       "      <td>1</td>\n",
       "      <td>0</td>\n",
       "      <td>0</td>\n",
       "      <td>0.27</td>\n",
       "      <td>1800.0</td>\n",
       "      <td>(-9.379, 1875.8]</td>\n",
       "      <td>(120.0, 9379.0]</td>\n",
       "    </tr>\n",
       "    <tr>\n",
       "      <th>1021</th>\n",
       "      <td>571017</td>\n",
       "      <td>https://www.airbnb.com/rooms/571017</td>\n",
       "      <td>20190507030954</td>\n",
       "      <td>2019-05-08</td>\n",
       "      <td>The ultimate luxury in Paris</td>\n",
       "      <td>NaN</td>\n",
       "      <td>Villa D’Alésia is a gem in the city of (Websit...</td>\n",
       "      <td>Villa D’Alésia is a gem in the city of (Websit...</td>\n",
       "      <td>none</td>\n",
       "      <td>NaN</td>\n",
       "      <td>...</td>\n",
       "      <td>f</td>\n",
       "      <td>f</td>\n",
       "      <td>2</td>\n",
       "      <td>2</td>\n",
       "      <td>0</td>\n",
       "      <td>0</td>\n",
       "      <td>0.17</td>\n",
       "      <td>1206.0</td>\n",
       "      <td>(-9.379, 1875.8]</td>\n",
       "      <td>(120.0, 9379.0]</td>\n",
       "    </tr>\n",
       "    <tr>\n",
       "      <th>1447</th>\n",
       "      <td>732458</td>\n",
       "      <td>https://www.airbnb.com/rooms/732458</td>\n",
       "      <td>20190507030954</td>\n",
       "      <td>2019-05-07</td>\n",
       "      <td>Paris Montmartre Sacré Coeur House with big Ga...</td>\n",
       "      <td>In the heart of Montmartre at 150 m from \"Sacr...</td>\n",
       "      <td>VERY IMPORTANT  : THE RENTAL TERMS ARE VALID F...</td>\n",
       "      <td>In the heart of Montmartre at 150 m from \"Sacr...</td>\n",
       "      <td>none</td>\n",
       "      <td>NaN</td>\n",
       "      <td>...</td>\n",
       "      <td>f</td>\n",
       "      <td>f</td>\n",
       "      <td>1</td>\n",
       "      <td>1</td>\n",
       "      <td>0</td>\n",
       "      <td>0</td>\n",
       "      <td>0.20</td>\n",
       "      <td>1300.0</td>\n",
       "      <td>(-9.379, 1875.8]</td>\n",
       "      <td>(120.0, 9379.0]</td>\n",
       "    </tr>\n",
       "    <tr>\n",
       "      <th>1877</th>\n",
       "      <td>908350</td>\n",
       "      <td>https://www.airbnb.com/rooms/908350</td>\n",
       "      <td>20190507030954</td>\n",
       "      <td>2019-05-08</td>\n",
       "      <td>Parisian Charm &amp; Gourmet Delight</td>\n",
       "      <td>NaN</td>\n",
       "      <td>A charming Parisian home with a library, histo...</td>\n",
       "      <td>A charming Parisian home with a library, histo...</td>\n",
       "      <td>none</td>\n",
       "      <td>NaN</td>\n",
       "      <td>...</td>\n",
       "      <td>f</td>\n",
       "      <td>f</td>\n",
       "      <td>1</td>\n",
       "      <td>1</td>\n",
       "      <td>0</td>\n",
       "      <td>0</td>\n",
       "      <td>0.55</td>\n",
       "      <td>1500.0</td>\n",
       "      <td>(-9.379, 1875.8]</td>\n",
       "      <td>(120.0, 9379.0]</td>\n",
       "    </tr>\n",
       "    <tr>\n",
       "      <th>4221</th>\n",
       "      <td>2344562</td>\n",
       "      <td>https://www.airbnb.com/rooms/2344562</td>\n",
       "      <td>20190507030954</td>\n",
       "      <td>2019-05-08</td>\n",
       "      <td>1 room Apartment</td>\n",
       "      <td>220 sq ft, 3rd floor no lift, on a quiet stree...</td>\n",
       "      <td>near Place d'italie, big shopping Mall Italie 2</td>\n",
       "      <td>220 sq ft, 3rd floor no lift, on a quiet stree...</td>\n",
       "      <td>none</td>\n",
       "      <td>quiet residential neighbourghood</td>\n",
       "      <td>...</td>\n",
       "      <td>f</td>\n",
       "      <td>f</td>\n",
       "      <td>2</td>\n",
       "      <td>2</td>\n",
       "      <td>0</td>\n",
       "      <td>0</td>\n",
       "      <td>0.04</td>\n",
       "      <td>5000.0</td>\n",
       "      <td>(3751.6, 5627.4]</td>\n",
       "      <td>(120.0, 9379.0]</td>\n",
       "    </tr>\n",
       "    <tr>\n",
       "      <th>...</th>\n",
       "      <td>...</td>\n",
       "      <td>...</td>\n",
       "      <td>...</td>\n",
       "      <td>...</td>\n",
       "      <td>...</td>\n",
       "      <td>...</td>\n",
       "      <td>...</td>\n",
       "      <td>...</td>\n",
       "      <td>...</td>\n",
       "      <td>...</td>\n",
       "      <td>...</td>\n",
       "      <td>...</td>\n",
       "      <td>...</td>\n",
       "      <td>...</td>\n",
       "      <td>...</td>\n",
       "      <td>...</td>\n",
       "      <td>...</td>\n",
       "      <td>...</td>\n",
       "      <td>...</td>\n",
       "      <td>...</td>\n",
       "      <td>...</td>\n",
       "    </tr>\n",
       "    <tr>\n",
       "      <th>57980</th>\n",
       "      <td>34101807</td>\n",
       "      <td>https://www.airbnb.com/rooms/34101807</td>\n",
       "      <td>20190507030954</td>\n",
       "      <td>2019-05-07</td>\n",
       "      <td>165M2 PREMIUM LUXURY 3BR/3BATH-CHAMPS ELYSEES</td>\n",
       "      <td>Families and groups will love this stunning ap...</td>\n",
       "      <td>APARTMENT CAN BE BOOKED AS SHOWROOM, PLEASE CO...</td>\n",
       "      <td>Families and groups will love this stunning ap...</td>\n",
       "      <td>none</td>\n",
       "      <td>NaN</td>\n",
       "      <td>...</td>\n",
       "      <td>f</td>\n",
       "      <td>f</td>\n",
       "      <td>282</td>\n",
       "      <td>261</td>\n",
       "      <td>21</td>\n",
       "      <td>0</td>\n",
       "      <td>NaN</td>\n",
       "      <td>1350.0</td>\n",
       "      <td>(-9.379, 1875.8]</td>\n",
       "      <td>(120.0, 9379.0]</td>\n",
       "    </tr>\n",
       "    <tr>\n",
       "      <th>58157</th>\n",
       "      <td>34165773</td>\n",
       "      <td>https://www.airbnb.com/rooms/34165773</td>\n",
       "      <td>20190507030954</td>\n",
       "      <td>2019-05-07</td>\n",
       "      <td>RD1 BLUE NIGHT APPARTEMENT MARAIS</td>\n",
       "      <td>Le Blue Nights Apartments - Sébastopol est sit...</td>\n",
       "      <td>Le Blue Nights Apartments - Sébastopol est sit...</td>\n",
       "      <td>Le Blue Nights Apartments - Sébastopol est sit...</td>\n",
       "      <td>none</td>\n",
       "      <td>Très bon emplacement ! Les clients ont adoré s...</td>\n",
       "      <td>...</td>\n",
       "      <td>f</td>\n",
       "      <td>f</td>\n",
       "      <td>18</td>\n",
       "      <td>18</td>\n",
       "      <td>0</td>\n",
       "      <td>0</td>\n",
       "      <td>NaN</td>\n",
       "      <td>2000.0</td>\n",
       "      <td>(1875.8, 3751.6]</td>\n",
       "      <td>(120.0, 9379.0]</td>\n",
       "    </tr>\n",
       "    <tr>\n",
       "      <th>58752</th>\n",
       "      <td>34359005</td>\n",
       "      <td>https://www.airbnb.com/rooms/34359005</td>\n",
       "      <td>20190507030954</td>\n",
       "      <td>2019-05-07</td>\n",
       "      <td>Modern and luminous flat in the heart of Paris</td>\n",
       "      <td>Located in the heart of the 9th district, this...</td>\n",
       "      <td>Located in the heart of the 9th district, this...</td>\n",
       "      <td>Located in the heart of the 9th district, this...</td>\n",
       "      <td>none</td>\n",
       "      <td>The apartment is located in the 9th arrondisse...</td>\n",
       "      <td>...</td>\n",
       "      <td>f</td>\n",
       "      <td>f</td>\n",
       "      <td>18</td>\n",
       "      <td>18</td>\n",
       "      <td>0</td>\n",
       "      <td>0</td>\n",
       "      <td>NaN</td>\n",
       "      <td>8288.0</td>\n",
       "      <td>(7503.2, 9379.0]</td>\n",
       "      <td>(120.0, 9379.0]</td>\n",
       "    </tr>\n",
       "    <tr>\n",
       "      <th>58797</th>\n",
       "      <td>34377495</td>\n",
       "      <td>https://www.airbnb.com/rooms/34377495</td>\n",
       "      <td>20190507030954</td>\n",
       "      <td>2019-05-08</td>\n",
       "      <td>Superbe Apartment 2 bedrooms</td>\n",
       "      <td>Superbe and Spacious 2 bed apartment near Port...</td>\n",
       "      <td>Spacious and comfortable 2 bed apartment with ...</td>\n",
       "      <td>Superbe and Spacious 2 bed apartment near Port...</td>\n",
       "      <td>none</td>\n",
       "      <td>NaN</td>\n",
       "      <td>...</td>\n",
       "      <td>f</td>\n",
       "      <td>f</td>\n",
       "      <td>7</td>\n",
       "      <td>7</td>\n",
       "      <td>0</td>\n",
       "      <td>0</td>\n",
       "      <td>NaN</td>\n",
       "      <td>1899.0</td>\n",
       "      <td>(1875.8, 3751.6]</td>\n",
       "      <td>(120.0, 9379.0]</td>\n",
       "    </tr>\n",
       "    <tr>\n",
       "      <th>59046</th>\n",
       "      <td>34458647</td>\n",
       "      <td>https://www.airbnb.com/rooms/34458647</td>\n",
       "      <td>20190507030954</td>\n",
       "      <td>2019-05-07</td>\n",
       "      <td>Beautiful &amp; Cozy 3 BDR *Bonne Nouvelle</td>\n",
       "      <td>Our skilled local interior designers used styl...</td>\n",
       "      <td>NaN</td>\n",
       "      <td>Our skilled local interior designers used styl...</td>\n",
       "      <td>none</td>\n",
       "      <td>NaN</td>\n",
       "      <td>...</td>\n",
       "      <td>f</td>\n",
       "      <td>f</td>\n",
       "      <td>41</td>\n",
       "      <td>41</td>\n",
       "      <td>0</td>\n",
       "      <td>0</td>\n",
       "      <td>NaN</td>\n",
       "      <td>1300.0</td>\n",
       "      <td>(-9.379, 1875.8]</td>\n",
       "      <td>(120.0, 9379.0]</td>\n",
       "    </tr>\n",
       "  </tbody>\n",
       "</table>\n",
       "<p>152 rows × 109 columns</p>\n",
       "</div>"
      ],
      "text/plain": [
       "             id                            listing_url       scrape_id  \\\n",
       "73        36868     https://www.airbnb.com/rooms/36868  20190507030954   \n",
       "1021     571017    https://www.airbnb.com/rooms/571017  20190507030954   \n",
       "1447     732458    https://www.airbnb.com/rooms/732458  20190507030954   \n",
       "1877     908350    https://www.airbnb.com/rooms/908350  20190507030954   \n",
       "4221    2344562   https://www.airbnb.com/rooms/2344562  20190507030954   \n",
       "...         ...                                    ...             ...   \n",
       "57980  34101807  https://www.airbnb.com/rooms/34101807  20190507030954   \n",
       "58157  34165773  https://www.airbnb.com/rooms/34165773  20190507030954   \n",
       "58752  34359005  https://www.airbnb.com/rooms/34359005  20190507030954   \n",
       "58797  34377495  https://www.airbnb.com/rooms/34377495  20190507030954   \n",
       "59046  34458647  https://www.airbnb.com/rooms/34458647  20190507030954   \n",
       "\n",
       "      last_scraped                                               name  \\\n",
       "73      2019-05-08                  Great family size apt near park !   \n",
       "1021    2019-05-08                       The ultimate luxury in Paris   \n",
       "1447    2019-05-07  Paris Montmartre Sacré Coeur House with big Ga...   \n",
       "1877    2019-05-08                   Parisian Charm & Gourmet Delight   \n",
       "4221    2019-05-08                                   1 room Apartment   \n",
       "...            ...                                                ...   \n",
       "57980   2019-05-07      165M2 PREMIUM LUXURY 3BR/3BATH-CHAMPS ELYSEES   \n",
       "58157   2019-05-07                  RD1 BLUE NIGHT APPARTEMENT MARAIS   \n",
       "58752   2019-05-07     Modern and luminous flat in the heart of Paris   \n",
       "58797   2019-05-08                       Superbe Apartment 2 bedrooms   \n",
       "59046   2019-05-07             Beautiful & Cozy 3 BDR *Bonne Nouvelle   \n",
       "\n",
       "                                                 summary  \\\n",
       "73     Three bedroom in quiet street but lively neigh...   \n",
       "1021                                                 NaN   \n",
       "1447   In the heart of Montmartre at 150 m from \"Sacr...   \n",
       "1877                                                 NaN   \n",
       "4221   220 sq ft, 3rd floor no lift, on a quiet stree...   \n",
       "...                                                  ...   \n",
       "57980  Families and groups will love this stunning ap...   \n",
       "58157  Le Blue Nights Apartments - Sébastopol est sit...   \n",
       "58752  Located in the heart of the 9th district, this...   \n",
       "58797  Superbe and Spacious 2 bed apartment near Port...   \n",
       "59046  Our skilled local interior designers used styl...   \n",
       "\n",
       "                                                   space  \\\n",
       "73     Hi! I'm offering my own Paris apartment for se...   \n",
       "1021   Villa D’Alésia is a gem in the city of (Websit...   \n",
       "1447   VERY IMPORTANT  : THE RENTAL TERMS ARE VALID F...   \n",
       "1877   A charming Parisian home with a library, histo...   \n",
       "4221     near Place d'italie, big shopping Mall Italie 2   \n",
       "...                                                  ...   \n",
       "57980  APARTMENT CAN BE BOOKED AS SHOWROOM, PLEASE CO...   \n",
       "58157  Le Blue Nights Apartments - Sébastopol est sit...   \n",
       "58752  Located in the heart of the 9th district, this...   \n",
       "58797  Spacious and comfortable 2 bed apartment with ...   \n",
       "59046                                                NaN   \n",
       "\n",
       "                                             description experiences_offered  \\\n",
       "73     Three bedroom in quiet street but lively neigh...                none   \n",
       "1021   Villa D’Alésia is a gem in the city of (Websit...                none   \n",
       "1447   In the heart of Montmartre at 150 m from \"Sacr...                none   \n",
       "1877   A charming Parisian home with a library, histo...                none   \n",
       "4221   220 sq ft, 3rd floor no lift, on a quiet stree...                none   \n",
       "...                                                  ...                 ...   \n",
       "57980  Families and groups will love this stunning ap...                none   \n",
       "58157  Le Blue Nights Apartments - Sébastopol est sit...                none   \n",
       "58752  Located in the heart of the 9th district, this...                none   \n",
       "58797  Superbe and Spacious 2 bed apartment near Port...                none   \n",
       "59046  Our skilled local interior designers used styl...                none   \n",
       "\n",
       "                                   neighborhood_overview  ...  \\\n",
       "73     wonderful neighborhood : quite yet lively, two...  ...   \n",
       "1021                                                 NaN  ...   \n",
       "1447                                                 NaN  ...   \n",
       "1877                                                 NaN  ...   \n",
       "4221                    quiet residential neighbourghood  ...   \n",
       "...                                                  ...  ...   \n",
       "57980                                                NaN  ...   \n",
       "58157  Très bon emplacement ! Les clients ont adoré s...  ...   \n",
       "58752  The apartment is located in the 9th arrondisse...  ...   \n",
       "58797                                                NaN  ...   \n",
       "59046                                                NaN  ...   \n",
       "\n",
       "      require_guest_profile_picture require_guest_phone_verification  \\\n",
       "73                                f                                f   \n",
       "1021                              f                                f   \n",
       "1447                              f                                f   \n",
       "1877                              f                                f   \n",
       "4221                              f                                f   \n",
       "...                             ...                              ...   \n",
       "57980                             f                                f   \n",
       "58157                             f                                f   \n",
       "58752                             f                                f   \n",
       "58797                             f                                f   \n",
       "59046                             f                                f   \n",
       "\n",
       "      calculated_host_listings_count  \\\n",
       "73                                 1   \n",
       "1021                               2   \n",
       "1447                               1   \n",
       "1877                               1   \n",
       "4221                               2   \n",
       "...                              ...   \n",
       "57980                            282   \n",
       "58157                             18   \n",
       "58752                             18   \n",
       "58797                              7   \n",
       "59046                             41   \n",
       "\n",
       "      calculated_host_listings_count_entire_homes  \\\n",
       "73                                              1   \n",
       "1021                                            2   \n",
       "1447                                            1   \n",
       "1877                                            1   \n",
       "4221                                            2   \n",
       "...                                           ...   \n",
       "57980                                         261   \n",
       "58157                                          18   \n",
       "58752                                          18   \n",
       "58797                                           7   \n",
       "59046                                          41   \n",
       "\n",
       "      calculated_host_listings_count_private_rooms  \\\n",
       "73                                               0   \n",
       "1021                                             0   \n",
       "1447                                             0   \n",
       "1877                                             0   \n",
       "4221                                             0   \n",
       "...                                            ...   \n",
       "57980                                           21   \n",
       "58157                                            0   \n",
       "58752                                            0   \n",
       "58797                                            0   \n",
       "59046                                            0   \n",
       "\n",
       "       calculated_host_listings_count_shared_rooms  reviews_per_month  price2  \\\n",
       "73                                               0               0.27  1800.0   \n",
       "1021                                             0               0.17  1206.0   \n",
       "1447                                             0               0.20  1300.0   \n",
       "1877                                             0               0.55  1500.0   \n",
       "4221                                             0               0.04  5000.0   \n",
       "...                                            ...                ...     ...   \n",
       "57980                                            0                NaN  1350.0   \n",
       "58157                                            0                NaN  2000.0   \n",
       "58752                                            0                NaN  8288.0   \n",
       "58797                                            0                NaN  1899.0   \n",
       "59046                                            0                NaN  1300.0   \n",
       "\n",
       "             price_disc      price_disc2  \n",
       "73     (-9.379, 1875.8]  (120.0, 9379.0]  \n",
       "1021   (-9.379, 1875.8]  (120.0, 9379.0]  \n",
       "1447   (-9.379, 1875.8]  (120.0, 9379.0]  \n",
       "1877   (-9.379, 1875.8]  (120.0, 9379.0]  \n",
       "4221   (3751.6, 5627.4]  (120.0, 9379.0]  \n",
       "...                 ...              ...  \n",
       "57980  (-9.379, 1875.8]  (120.0, 9379.0]  \n",
       "58157  (1875.8, 3751.6]  (120.0, 9379.0]  \n",
       "58752  (7503.2, 9379.0]  (120.0, 9379.0]  \n",
       "58797  (1875.8, 3751.6]  (120.0, 9379.0]  \n",
       "59046  (-9.379, 1875.8]  (120.0, 9379.0]  \n",
       "\n",
       "[152 rows x 109 columns]"
      ]
     },
     "execution_count": 51,
     "metadata": {},
     "output_type": "execute_result"
    }
   ],
   "source": [
    "airbnb[airbnb[\"price2\"]>1000]"
   ]
  },
  {
   "cell_type": "markdown",
   "metadata": {
    "slideshow": {
     "slide_type": "slide"
    }
   },
   "source": [
    "# Les tableaux croisés avec Pandas\n",
    "\n",
    "Les DataFrame possèdent des méthodes pour générer des tableaux croisés, notamment :\n",
    "```python\n",
    "frame1.pivot_table()\n",
    "```\n",
    "Cette méthode permet de gérer de nombreux cas avec des fonctions standards et sur mesure."
   ]
  },
  {
   "cell_type": "markdown",
   "metadata": {
    "slideshow": {
     "slide_type": "slide"
    }
   },
   "source": [
    "# L'utilisation de GroupBy sur des DataFrame\n",
    "\n",
    "- `.groupby` permet de rassembler des observations en fonction d’une variable dite de groupe\n",
    "\n",
    "\n",
    "- Par exemple, `frame.groupby('X').mean()` donnera les moyennes par groupes de `X`\n",
    "\n",
    "\n",
    "- On peut aussi utiliser `.size()` pour connaître la taille des groupes et utiliser d’autres fonctions (`.sum()`)\n",
    "\n",
    "\n",
    "- On peut effectuer de nombreuses opérations de traitement avec le groupby\n"
   ]
  },
  {
   "cell_type": "markdown",
   "metadata": {
    "slideshow": {
     "slide_type": "subslide"
    }
   },
   "source": [
    "**Exercice :**\n",
    "    \n",
    "- Données sur les airbnb\n",
    "\n",
    "\n",
    "- On utilise le `groupby()` pour rassembler les types d’appartement\n",
    "\n",
    "\n",
    "- Et on calcule des statistiques pour chaque type\n",
    "\n",
    "\n",
    "On peut utiliser la méthode `.agg()` avec par exemple `'mean'` comme paramètre\n",
    "\n",
    "On utilise aussi fréquemment la méthode `.apply()` combinée à une fonction lambda"
   ]
  },
  {
   "cell_type": "code",
   "execution_count": 52,
   "metadata": {},
   "outputs": [
    {
     "data": {
      "text/plain": [
       "Entire home/apt    51132\n",
       "Private room        7527\n",
       "Shared room          467\n",
       "Name: room_type, dtype: int64"
      ]
     },
     "execution_count": 52,
     "metadata": {},
     "output_type": "execute_result"
    }
   ],
   "source": [
    "airbnb[\"room_type\"].value_counts()"
   ]
  },
  {
   "cell_type": "markdown",
   "metadata": {},
   "source": [
    "Essayez d'utiliser une fonction lambda sur le groupby"
   ]
  },
  {
   "cell_type": "code",
   "execution_count": 53,
   "metadata": {},
   "outputs": [],
   "source": [
    "airbnb_group_room = airbnb.groupby(\"room_type\")"
   ]
  },
  {
   "cell_type": "code",
   "execution_count": 54,
   "metadata": {},
   "outputs": [
    {
     "data": {
      "text/plain": [
       "room_type\n",
       "Entire home/apt    117.270613\n",
       "Private room       113.091139\n",
       "Shared room         65.036403\n",
       "Name: price2, dtype: float64"
      ]
     },
     "execution_count": 54,
     "metadata": {},
     "output_type": "execute_result"
    }
   ],
   "source": [
    "airbnb_group_room[\"price2\"].mean()"
   ]
  },
  {
   "cell_type": "code",
   "execution_count": 55,
   "metadata": {},
   "outputs": [],
   "source": [
    "def etendue(x):\n",
    "    return x.max()-x.min()"
   ]
  },
  {
   "cell_type": "code",
   "execution_count": 56,
   "metadata": {},
   "outputs": [
    {
     "data": {
      "text/plain": [
       "room_type\n",
       "Entire home/apt    80.0\n",
       "Private room       80.0\n",
       "Shared room        80.0\n",
       "Name: review_scores_rating, dtype: float64"
      ]
     },
     "execution_count": 56,
     "metadata": {},
     "output_type": "execute_result"
    }
   ],
   "source": [
    "etendue(airbnb_group_room[\"review_scores_rating\"])"
   ]
  },
  {
   "cell_type": "code",
   "execution_count": 57,
   "metadata": {},
   "outputs": [
    {
     "data": {
      "text/html": [
       "<div>\n",
       "<style scoped>\n",
       "    .dataframe tbody tr th:only-of-type {\n",
       "        vertical-align: middle;\n",
       "    }\n",
       "\n",
       "    .dataframe tbody tr th {\n",
       "        vertical-align: top;\n",
       "    }\n",
       "\n",
       "    .dataframe thead th {\n",
       "        text-align: right;\n",
       "    }\n",
       "</style>\n",
       "<table border=\"1\" class=\"dataframe\">\n",
       "  <thead>\n",
       "    <tr style=\"text-align: right;\">\n",
       "      <th></th>\n",
       "      <th>mean</th>\n",
       "      <th>median</th>\n",
       "      <th>std</th>\n",
       "      <th>count</th>\n",
       "      <th>etendue</th>\n",
       "      <th>&lt;lambda_0&gt;</th>\n",
       "      <th>min</th>\n",
       "      <th>max</th>\n",
       "    </tr>\n",
       "    <tr>\n",
       "      <th>room_type</th>\n",
       "      <th></th>\n",
       "      <th></th>\n",
       "      <th></th>\n",
       "      <th></th>\n",
       "      <th></th>\n",
       "      <th></th>\n",
       "      <th></th>\n",
       "      <th></th>\n",
       "    </tr>\n",
       "  </thead>\n",
       "  <tbody>\n",
       "    <tr>\n",
       "      <th>Entire home/apt</th>\n",
       "      <td>92.884920</td>\n",
       "      <td>95.0</td>\n",
       "      <td>8.308599</td>\n",
       "      <td>39338</td>\n",
       "      <td>80.0</td>\n",
       "      <td>80.0</td>\n",
       "      <td>20.0</td>\n",
       "      <td>100.0</td>\n",
       "    </tr>\n",
       "    <tr>\n",
       "      <th>Private room</th>\n",
       "      <td>93.173706</td>\n",
       "      <td>95.0</td>\n",
       "      <td>8.453961</td>\n",
       "      <td>5469</td>\n",
       "      <td>80.0</td>\n",
       "      <td>80.0</td>\n",
       "      <td>20.0</td>\n",
       "      <td>100.0</td>\n",
       "    </tr>\n",
       "    <tr>\n",
       "      <th>Shared room</th>\n",
       "      <td>90.774096</td>\n",
       "      <td>93.0</td>\n",
       "      <td>11.230092</td>\n",
       "      <td>332</td>\n",
       "      <td>80.0</td>\n",
       "      <td>80.0</td>\n",
       "      <td>20.0</td>\n",
       "      <td>100.0</td>\n",
       "    </tr>\n",
       "  </tbody>\n",
       "</table>\n",
       "</div>"
      ],
      "text/plain": [
       "                      mean  median        std  count  etendue  <lambda_0>  \\\n",
       "room_type                                                                   \n",
       "Entire home/apt  92.884920    95.0   8.308599  39338     80.0        80.0   \n",
       "Private room     93.173706    95.0   8.453961   5469     80.0        80.0   \n",
       "Shared room      90.774096    93.0  11.230092    332     80.0        80.0   \n",
       "\n",
       "                  min    max  \n",
       "room_type                     \n",
       "Entire home/apt  20.0  100.0  \n",
       "Private room     20.0  100.0  \n",
       "Shared room      20.0  100.0  "
      ]
     },
     "execution_count": 57,
     "metadata": {},
     "output_type": "execute_result"
    }
   ],
   "source": [
    "airbnb_group_room[\"review_scores_rating\"].agg([\"mean\",\"median\",\"std\",\"count\",etendue,\n",
    "                                               lambda x : x.max()-x.min(),\"min\",\"max\"])"
   ]
  },
  {
   "cell_type": "code",
   "execution_count": 58,
   "metadata": {},
   "outputs": [
    {
     "data": {
      "text/plain": [
       "mean          92.904384\n",
       "median        95.000000\n",
       "std            8.353803\n",
       "count      45139.000000\n",
       "etendue       80.000000\n",
       "min           20.000000\n",
       "max          100.000000\n",
       "Name: review_scores_rating, dtype: float64"
      ]
     },
     "execution_count": 58,
     "metadata": {},
     "output_type": "execute_result"
    }
   ],
   "source": [
    "airbnb[\"review_scores_rating\"].agg([\"mean\",\"median\",\"std\",\"count\",etendue,\"min\",\"max\"])"
   ]
  },
  {
   "cell_type": "code",
   "execution_count": 59,
   "metadata": {},
   "outputs": [
    {
     "data": {
      "text/html": [
       "<div>\n",
       "<style scoped>\n",
       "    .dataframe tbody tr th:only-of-type {\n",
       "        vertical-align: middle;\n",
       "    }\n",
       "\n",
       "    .dataframe tbody tr th {\n",
       "        vertical-align: top;\n",
       "    }\n",
       "\n",
       "    .dataframe thead th {\n",
       "        text-align: right;\n",
       "    }\n",
       "</style>\n",
       "<table border=\"1\" class=\"dataframe\">\n",
       "  <thead>\n",
       "    <tr style=\"text-align: right;\">\n",
       "      <th></th>\n",
       "      <th>count</th>\n",
       "      <th>mean</th>\n",
       "      <th>std</th>\n",
       "      <th>min</th>\n",
       "      <th>25%</th>\n",
       "      <th>50%</th>\n",
       "      <th>75%</th>\n",
       "      <th>max</th>\n",
       "    </tr>\n",
       "    <tr>\n",
       "      <th>room_type</th>\n",
       "      <th></th>\n",
       "      <th></th>\n",
       "      <th></th>\n",
       "      <th></th>\n",
       "      <th></th>\n",
       "      <th></th>\n",
       "      <th></th>\n",
       "      <th></th>\n",
       "    </tr>\n",
       "  </thead>\n",
       "  <tbody>\n",
       "    <tr>\n",
       "      <th>Entire home/apt</th>\n",
       "      <td>39338.0</td>\n",
       "      <td>92.884920</td>\n",
       "      <td>8.308599</td>\n",
       "      <td>20.0</td>\n",
       "      <td>90.00</td>\n",
       "      <td>95.0</td>\n",
       "      <td>99.0</td>\n",
       "      <td>100.0</td>\n",
       "    </tr>\n",
       "    <tr>\n",
       "      <th>Private room</th>\n",
       "      <td>5469.0</td>\n",
       "      <td>93.173706</td>\n",
       "      <td>8.453961</td>\n",
       "      <td>20.0</td>\n",
       "      <td>90.00</td>\n",
       "      <td>95.0</td>\n",
       "      <td>100.0</td>\n",
       "      <td>100.0</td>\n",
       "    </tr>\n",
       "    <tr>\n",
       "      <th>Shared room</th>\n",
       "      <td>332.0</td>\n",
       "      <td>90.774096</td>\n",
       "      <td>11.230092</td>\n",
       "      <td>20.0</td>\n",
       "      <td>87.75</td>\n",
       "      <td>93.0</td>\n",
       "      <td>97.0</td>\n",
       "      <td>100.0</td>\n",
       "    </tr>\n",
       "  </tbody>\n",
       "</table>\n",
       "</div>"
      ],
      "text/plain": [
       "                   count       mean        std   min    25%   50%    75%  \\\n",
       "room_type                                                                  \n",
       "Entire home/apt  39338.0  92.884920   8.308599  20.0  90.00  95.0   99.0   \n",
       "Private room      5469.0  93.173706   8.453961  20.0  90.00  95.0  100.0   \n",
       "Shared room        332.0  90.774096  11.230092  20.0  87.75  93.0   97.0   \n",
       "\n",
       "                   max  \n",
       "room_type               \n",
       "Entire home/apt  100.0  \n",
       "Private room     100.0  \n",
       "Shared room      100.0  "
      ]
     },
     "execution_count": 59,
     "metadata": {},
     "output_type": "execute_result"
    }
   ],
   "source": [
    "airbnb_group_room[\"review_scores_rating\"].describe()"
   ]
  },
  {
   "cell_type": "markdown",
   "metadata": {},
   "source": [
    "Travail sur les dates et les chaînes de caractères"
   ]
  },
  {
   "cell_type": "code",
   "execution_count": 60,
   "metadata": {},
   "outputs": [],
   "source": [
    "ecoles[\"JOUR_OUVERTURE\"]=ecoles[\"DATE_OUVERTURE\"].dt.day_name()"
   ]
  },
  {
   "cell_type": "code",
   "execution_count": 61,
   "metadata": {},
   "outputs": [],
   "source": [
    "ecoles[\"primaires\"]= ecoles[\"DENOMINATION_PRINCIPALE_UAI\"].str.find(\"PRIMAIRE\")>0"
   ]
  },
  {
   "cell_type": "code",
   "execution_count": 62,
   "metadata": {},
   "outputs": [
    {
     "data": {
      "text/plain": [
       "False    0.715648\n",
       "True     0.284352\n",
       "Name: primaires, dtype: float64"
      ]
     },
     "execution_count": 62,
     "metadata": {},
     "output_type": "execute_result"
    }
   ],
   "source": [
    "ecoles[\"primaires\"].value_counts(normalize=True)"
   ]
  },
  {
   "cell_type": "code",
   "execution_count": 63,
   "metadata": {},
   "outputs": [],
   "source": [
    "ecoles[\"DENOMINATION_PRINCIPALE_UAI\"]=ecoles[\"DENOMINATION_PRINCIPALE_UAI\"].str.lower()"
   ]
  },
  {
   "cell_type": "markdown",
   "metadata": {},
   "source": [
    "Exercice : créer une colonne avec la différence de dates entre deux ocurr_score par patient"
   ]
  },
  {
   "cell_type": "code",
   "execution_count": 65,
   "metadata": {},
   "outputs": [],
   "source": [
    "base = pd.read_excel(\"./data/Base.xlsx\")"
   ]
  },
  {
   "cell_type": "code",
   "execution_count": 66,
   "metadata": {},
   "outputs": [
    {
     "data": {
      "text/html": [
       "<div>\n",
       "<style scoped>\n",
       "    .dataframe tbody tr th:only-of-type {\n",
       "        vertical-align: middle;\n",
       "    }\n",
       "\n",
       "    .dataframe tbody tr th {\n",
       "        vertical-align: top;\n",
       "    }\n",
       "\n",
       "    .dataframe thead th {\n",
       "        text-align: right;\n",
       "    }\n",
       "</style>\n",
       "<table border=\"1\" class=\"dataframe\">\n",
       "  <thead>\n",
       "    <tr style=\"text-align: right;\">\n",
       "      <th></th>\n",
       "      <th>patient_num</th>\n",
       "      <th>encounter_num</th>\n",
       "      <th>score</th>\n",
       "      <th>date</th>\n",
       "      <th>occurr_score</th>\n",
       "      <th>subscore</th>\n",
       "      <th>lat</th>\n",
       "    </tr>\n",
       "  </thead>\n",
       "  <tbody>\n",
       "    <tr>\n",
       "      <th>0</th>\n",
       "      <td>100145101882890000</td>\n",
       "      <td>670270877573828992</td>\n",
       "      <td>2.0</td>\n",
       "      <td>2017-02-02 12:39:00</td>\n",
       "      <td>1</td>\n",
       "      <td>1.0</td>\n",
       "      <td>R</td>\n",
       "    </tr>\n",
       "    <tr>\n",
       "      <th>1</th>\n",
       "      <td>100145101882890000</td>\n",
       "      <td>870270877573828992</td>\n",
       "      <td>1.0</td>\n",
       "      <td>2018-02-02 10:37:00</td>\n",
       "      <td>2</td>\n",
       "      <td>2.0</td>\n",
       "      <td>L</td>\n",
       "    </tr>\n",
       "    <tr>\n",
       "      <th>2</th>\n",
       "      <td>100145101882890000</td>\n",
       "      <td>970270877573828992</td>\n",
       "      <td>3.0</td>\n",
       "      <td>2018-09-02 12:31:00</td>\n",
       "      <td>3</td>\n",
       "      <td>1.0</td>\n",
       "      <td>R</td>\n",
       "    </tr>\n",
       "    <tr>\n",
       "      <th>3</th>\n",
       "      <td>200145101882889984</td>\n",
       "      <td>240270877573828992</td>\n",
       "      <td>1.0</td>\n",
       "      <td>2011-02-02 12:39:00</td>\n",
       "      <td>1</td>\n",
       "      <td>1.0</td>\n",
       "      <td>L</td>\n",
       "    </tr>\n",
       "    <tr>\n",
       "      <th>4</th>\n",
       "      <td>200145101882889984</td>\n",
       "      <td>250270877573828992</td>\n",
       "      <td>1.0</td>\n",
       "      <td>2013-02-03 12:39:00</td>\n",
       "      <td>2</td>\n",
       "      <td>3.0</td>\n",
       "      <td>R</td>\n",
       "    </tr>\n",
       "  </tbody>\n",
       "</table>\n",
       "</div>"
      ],
      "text/plain": [
       "          patient_num       encounter_num  score                date  \\\n",
       "0  100145101882890000  670270877573828992    2.0 2017-02-02 12:39:00   \n",
       "1  100145101882890000  870270877573828992    1.0 2018-02-02 10:37:00   \n",
       "2  100145101882890000  970270877573828992    3.0 2018-09-02 12:31:00   \n",
       "3  200145101882889984  240270877573828992    1.0 2011-02-02 12:39:00   \n",
       "4  200145101882889984  250270877573828992    1.0 2013-02-03 12:39:00   \n",
       "\n",
       "   occurr_score  subscore lat  \n",
       "0             1       1.0   R  \n",
       "1             2       2.0   L  \n",
       "2             3       1.0   R  \n",
       "3             1       1.0   L  \n",
       "4             2       3.0   R  "
      ]
     },
     "execution_count": 66,
     "metadata": {},
     "output_type": "execute_result"
    }
   ],
   "source": [
    "base.head()"
   ]
  },
  {
   "cell_type": "markdown",
   "metadata": {},
   "source": [
    "L'objectif est de travailler par patient sur les dates"
   ]
  },
  {
   "cell_type": "code",
   "execution_count": 67,
   "metadata": {},
   "outputs": [],
   "source": [
    "base.sort_values([\"patient_num\",\"occurr_score\"],inplace=True)"
   ]
  },
  {
   "cell_type": "code",
   "execution_count": 68,
   "metadata": {},
   "outputs": [
    {
     "data": {
      "text/html": [
       "<div>\n",
       "<style scoped>\n",
       "    .dataframe tbody tr th:only-of-type {\n",
       "        vertical-align: middle;\n",
       "    }\n",
       "\n",
       "    .dataframe tbody tr th {\n",
       "        vertical-align: top;\n",
       "    }\n",
       "\n",
       "    .dataframe thead th {\n",
       "        text-align: right;\n",
       "    }\n",
       "</style>\n",
       "<table border=\"1\" class=\"dataframe\">\n",
       "  <thead>\n",
       "    <tr style=\"text-align: right;\">\n",
       "      <th></th>\n",
       "      <th>patient_num</th>\n",
       "      <th>encounter_num</th>\n",
       "      <th>score</th>\n",
       "      <th>date</th>\n",
       "      <th>occurr_score</th>\n",
       "      <th>subscore</th>\n",
       "      <th>lat</th>\n",
       "    </tr>\n",
       "  </thead>\n",
       "  <tbody>\n",
       "    <tr>\n",
       "      <th>0</th>\n",
       "      <td>100145101882890000</td>\n",
       "      <td>670270877573828992</td>\n",
       "      <td>2.0</td>\n",
       "      <td>2017-02-02 12:39:00</td>\n",
       "      <td>1</td>\n",
       "      <td>1.0</td>\n",
       "      <td>R</td>\n",
       "    </tr>\n",
       "    <tr>\n",
       "      <th>1</th>\n",
       "      <td>100145101882890000</td>\n",
       "      <td>870270877573828992</td>\n",
       "      <td>1.0</td>\n",
       "      <td>2018-02-02 10:37:00</td>\n",
       "      <td>2</td>\n",
       "      <td>2.0</td>\n",
       "      <td>L</td>\n",
       "    </tr>\n",
       "    <tr>\n",
       "      <th>2</th>\n",
       "      <td>100145101882890000</td>\n",
       "      <td>970270877573828992</td>\n",
       "      <td>3.0</td>\n",
       "      <td>2018-09-02 12:31:00</td>\n",
       "      <td>3</td>\n",
       "      <td>1.0</td>\n",
       "      <td>R</td>\n",
       "    </tr>\n",
       "    <tr>\n",
       "      <th>3</th>\n",
       "      <td>200145101882889984</td>\n",
       "      <td>240270877573828992</td>\n",
       "      <td>1.0</td>\n",
       "      <td>2011-02-02 12:39:00</td>\n",
       "      <td>1</td>\n",
       "      <td>1.0</td>\n",
       "      <td>L</td>\n",
       "    </tr>\n",
       "    <tr>\n",
       "      <th>4</th>\n",
       "      <td>200145101882889984</td>\n",
       "      <td>250270877573828992</td>\n",
       "      <td>1.0</td>\n",
       "      <td>2013-02-03 12:39:00</td>\n",
       "      <td>2</td>\n",
       "      <td>3.0</td>\n",
       "      <td>R</td>\n",
       "    </tr>\n",
       "  </tbody>\n",
       "</table>\n",
       "</div>"
      ],
      "text/plain": [
       "          patient_num       encounter_num  score                date  \\\n",
       "0  100145101882890000  670270877573828992    2.0 2017-02-02 12:39:00   \n",
       "1  100145101882890000  870270877573828992    1.0 2018-02-02 10:37:00   \n",
       "2  100145101882890000  970270877573828992    3.0 2018-09-02 12:31:00   \n",
       "3  200145101882889984  240270877573828992    1.0 2011-02-02 12:39:00   \n",
       "4  200145101882889984  250270877573828992    1.0 2013-02-03 12:39:00   \n",
       "\n",
       "   occurr_score  subscore lat  \n",
       "0             1       1.0   R  \n",
       "1             2       2.0   L  \n",
       "2             3       1.0   R  \n",
       "3             1       1.0   L  \n",
       "4             2       3.0   R  "
      ]
     },
     "execution_count": 68,
     "metadata": {},
     "output_type": "execute_result"
    }
   ],
   "source": [
    "base.head()"
   ]
  },
  {
   "cell_type": "code",
   "execution_count": 69,
   "metadata": {},
   "outputs": [],
   "source": [
    "# on croise les no de patients et occur score\n",
    "frame_dates = base.pivot_table(index=\"patient_num\",columns=\"occurr_score\",values=\"date\",aggfunc=\"max\")"
   ]
  },
  {
   "cell_type": "code",
   "execution_count": 70,
   "metadata": {},
   "outputs": [],
   "source": [
    "frame_dates[\"new_col\"]=frame_dates[1]-frame_dates[2]"
   ]
  },
  {
   "cell_type": "code",
   "execution_count": 71,
   "metadata": {},
   "outputs": [],
   "source": [
    "# on construit une colonne décalée sur toutes les données\n",
    "base[\"date_next\"]=base[\"date\"].shift(1)"
   ]
  },
  {
   "cell_type": "code",
   "execution_count": 72,
   "metadata": {},
   "outputs": [
    {
     "data": {
      "text/html": [
       "<div>\n",
       "<style scoped>\n",
       "    .dataframe tbody tr th:only-of-type {\n",
       "        vertical-align: middle;\n",
       "    }\n",
       "\n",
       "    .dataframe tbody tr th {\n",
       "        vertical-align: top;\n",
       "    }\n",
       "\n",
       "    .dataframe thead th {\n",
       "        text-align: right;\n",
       "    }\n",
       "</style>\n",
       "<table border=\"1\" class=\"dataframe\">\n",
       "  <thead>\n",
       "    <tr style=\"text-align: right;\">\n",
       "      <th></th>\n",
       "      <th>patient_num</th>\n",
       "      <th>encounter_num</th>\n",
       "      <th>score</th>\n",
       "      <th>date</th>\n",
       "      <th>occurr_score</th>\n",
       "      <th>subscore</th>\n",
       "      <th>lat</th>\n",
       "      <th>date_next</th>\n",
       "    </tr>\n",
       "  </thead>\n",
       "  <tbody>\n",
       "    <tr>\n",
       "      <th>0</th>\n",
       "      <td>100145101882890000</td>\n",
       "      <td>670270877573828992</td>\n",
       "      <td>2.0</td>\n",
       "      <td>2017-02-02 12:39:00</td>\n",
       "      <td>1</td>\n",
       "      <td>1.0</td>\n",
       "      <td>R</td>\n",
       "      <td>NaT</td>\n",
       "    </tr>\n",
       "    <tr>\n",
       "      <th>1</th>\n",
       "      <td>100145101882890000</td>\n",
       "      <td>870270877573828992</td>\n",
       "      <td>1.0</td>\n",
       "      <td>2018-02-02 10:37:00</td>\n",
       "      <td>2</td>\n",
       "      <td>2.0</td>\n",
       "      <td>L</td>\n",
       "      <td>2017-02-02 12:39:00</td>\n",
       "    </tr>\n",
       "    <tr>\n",
       "      <th>2</th>\n",
       "      <td>100145101882890000</td>\n",
       "      <td>970270877573828992</td>\n",
       "      <td>3.0</td>\n",
       "      <td>2018-09-02 12:31:00</td>\n",
       "      <td>3</td>\n",
       "      <td>1.0</td>\n",
       "      <td>R</td>\n",
       "      <td>2018-02-02 10:37:00</td>\n",
       "    </tr>\n",
       "    <tr>\n",
       "      <th>3</th>\n",
       "      <td>200145101882889984</td>\n",
       "      <td>240270877573828992</td>\n",
       "      <td>1.0</td>\n",
       "      <td>2011-02-02 12:39:00</td>\n",
       "      <td>1</td>\n",
       "      <td>1.0</td>\n",
       "      <td>L</td>\n",
       "      <td>2018-09-02 12:31:00</td>\n",
       "    </tr>\n",
       "    <tr>\n",
       "      <th>4</th>\n",
       "      <td>200145101882889984</td>\n",
       "      <td>250270877573828992</td>\n",
       "      <td>1.0</td>\n",
       "      <td>2013-02-03 12:39:00</td>\n",
       "      <td>2</td>\n",
       "      <td>3.0</td>\n",
       "      <td>R</td>\n",
       "      <td>2011-02-02 12:39:00</td>\n",
       "    </tr>\n",
       "  </tbody>\n",
       "</table>\n",
       "</div>"
      ],
      "text/plain": [
       "          patient_num       encounter_num  score                date  \\\n",
       "0  100145101882890000  670270877573828992    2.0 2017-02-02 12:39:00   \n",
       "1  100145101882890000  870270877573828992    1.0 2018-02-02 10:37:00   \n",
       "2  100145101882890000  970270877573828992    3.0 2018-09-02 12:31:00   \n",
       "3  200145101882889984  240270877573828992    1.0 2011-02-02 12:39:00   \n",
       "4  200145101882889984  250270877573828992    1.0 2013-02-03 12:39:00   \n",
       "\n",
       "   occurr_score  subscore lat           date_next  \n",
       "0             1       1.0   R                 NaT  \n",
       "1             2       2.0   L 2017-02-02 12:39:00  \n",
       "2             3       1.0   R 2018-02-02 10:37:00  \n",
       "3             1       1.0   L 2018-09-02 12:31:00  \n",
       "4             2       3.0   R 2011-02-02 12:39:00  "
      ]
     },
     "execution_count": 72,
     "metadata": {},
     "output_type": "execute_result"
    }
   ],
   "source": [
    "base.head()"
   ]
  },
  {
   "cell_type": "code",
   "execution_count": 73,
   "metadata": {},
   "outputs": [],
   "source": [
    "# on peut construire une colonne décalée par patient\n",
    "base[\"new_date\"]=base.groupby(\"patient_num\")[\"date\"].shift(1)"
   ]
  },
  {
   "cell_type": "code",
   "execution_count": 74,
   "metadata": {},
   "outputs": [],
   "source": [
    "# on fait la différence entre la consultation et la suivante\n",
    "base[\"diff_next\"]= base[\"new_date\"]-base[\"date\"]"
   ]
  },
  {
   "cell_type": "code",
   "execution_count": 75,
   "metadata": {
    "scrolled": true
   },
   "outputs": [
    {
     "data": {
      "text/plain": [
       "patient_num         lat\n",
       "100145101882890000  L        0 days 00:00:00\n",
       "                    R      576 days 23:52:00\n",
       "200145101882889984  L     2924 days 00:00:00\n",
       "                    R     2191 days 00:00:00\n",
       "300145101882889984  R     2925 days 00:00:00\n",
       "400145101882889984  L      731 days 00:00:00\n",
       "                    R     1828 days 00:00:00\n",
       "500145101882889984  R     6577 days 00:00:00\n",
       "600145101882889984  L      731 days 00:00:00\n",
       "                    R        0 days 00:00:00\n",
       "700145101882889984  R        0 days 00:00:00\n",
       "800145101882889984  L        0 days 00:00:00\n",
       "                    R     6581 days 00:00:00\n",
       "900145101882889984  L     3654 days 00:00:00\n",
       "Name: date, dtype: timedelta64[ns]"
      ]
     },
     "execution_count": 75,
     "metadata": {},
     "output_type": "execute_result"
    }
   ],
   "source": [
    "# on calcule la plus grande différence entre deux consultation par patient et par lat\n",
    "base.groupby([\"patient_num\",\"lat\"])[\"date\"].apply(lambda x : x.max()-x.min())"
   ]
  },
  {
   "cell_type": "code",
   "execution_count": null,
   "metadata": {},
   "outputs": [],
   "source": []
  }
 ],
 "metadata": {
  "celltoolbar": "Slideshow",
  "kernelspec": {
   "display_name": "Python 3",
   "language": "python",
   "name": "python3"
  },
  "language_info": {
   "codemirror_mode": {
    "name": "ipython",
    "version": 3
   },
   "file_extension": ".py",
   "mimetype": "text/x-python",
   "name": "python",
   "nbconvert_exporter": "python",
   "pygments_lexer": "ipython3",
   "version": "3.7.5"
  }
 },
 "nbformat": 4,
 "nbformat_minor": 2
}
